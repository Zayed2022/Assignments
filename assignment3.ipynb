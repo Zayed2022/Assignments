{
 "cells": [
  {
   "cell_type": "markdown",
   "id": "594bdbbd-c933-4c4e-9af5-ee897b5f1376",
   "metadata": {},
   "source": [
    "## Q1. Which keyword is used to create a function? Create a function to return a list of odd numbers in the range of 1 to 25."
   ]
  },
  {
   "cell_type": "markdown",
   "id": "8cd31a0d-1b3d-4942-a18f-e1f67a2e2903",
   "metadata": {},
   "source": [
    "In Python, the keyword used to create a function is def. "
   ]
  },
  {
   "cell_type": "code",
   "execution_count": 1,
   "id": "62864dfe-7319-44b3-a0bf-8ddc190992eb",
   "metadata": {},
   "outputs": [
    {
     "name": "stdout",
     "output_type": "stream",
     "text": [
      "[1, 3, 5, 7, 9, 11, 13, 15, 17, 19, 21, 23, 25]\n"
     ]
    }
   ],
   "source": [
    "def get_odd_numbers():\n",
    "    odd_numbers=[]\n",
    "    for n in range(1, 26):\n",
    "        if n % 2 != 0:\n",
    "            odd_numbers.append(n)\n",
    "    return odd_numbers\n",
    "print(get_odd_numbers())\n"
   ]
  },
  {
   "cell_type": "markdown",
   "id": "f4e6ecf5-a63d-476d-858e-b88d6f147031",
   "metadata": {},
   "source": [
    "## Q2. Why *args and **kwargs is used in some functions? Create a function each for *args and **kwargs to demonstrate their use."
   ]
  },
  {
   "cell_type": "markdown",
   "id": "bbe25eb9-fd5b-4ba7-a71c-419895c179c9",
   "metadata": {},
   "source": [
    "*args and **kwargs are used to allow a function to accept a variable number of arguments."
   ]
  },
  {
   "cell_type": "code",
   "execution_count": 2,
   "id": "f41b4a55-ddd3-47e5-b596-8006816bd9e8",
   "metadata": {},
   "outputs": [
    {
     "name": "stdout",
     "output_type": "stream",
     "text": [
      "1\n",
      "2\n",
      "3\n",
      "four\n",
      "5.5\n"
     ]
    }
   ],
   "source": [
    "def args_ex(*args):\n",
    "    for arg in args:\n",
    "        print(arg)\n",
    "args_ex(1, 2, 3, 'four', 5.5)\n"
   ]
  },
  {
   "cell_type": "code",
   "execution_count": 3,
   "id": "1636a4e5-2726-4cac-afea-f8cfe1ad0590",
   "metadata": {},
   "outputs": [
    {
     "name": "stdout",
     "output_type": "stream",
     "text": [
      "name: John\n",
      "age: 25\n",
      "city: New York\n"
     ]
    }
   ],
   "source": [
    "def ex_kwargs(**kwargs):\n",
    "    for key, value in kwargs.items():\n",
    "        print(f\"{key}: {value}\")\n",
    "ex_kwargs(name='John', age=25, city='New York')\n"
   ]
  },
  {
   "cell_type": "markdown",
   "id": "769efa60-76eb-43a4-834e-c6575994cfb0",
   "metadata": {},
   "source": [
    "## Q3. What is an iterator in python? Name the method used to initialise the iterator object and the method used for iteration. Use these methods to print the first five elements of the given list [2, 4, 6, 8, 10, 12, 14, 16, 18, 20]."
   ]
  },
  {
   "cell_type": "markdown",
   "id": "07033a84-14f7-44a4-b259-2e180c4692c3",
   "metadata": {},
   "source": [
    "An iterator in Python is an object that implements the iterator protocol, which consists of the __iter__ method for initialization and the __next__ method for iteration."
   ]
  },
  {
   "cell_type": "code",
   "execution_count": 6,
   "id": "6751f983-2789-4ef2-a335-7347d93fdf55",
   "metadata": {},
   "outputs": [
    {
     "name": "stdout",
     "output_type": "stream",
     "text": [
      "2\n",
      "4\n",
      "6\n",
      "8\n",
      "10\n"
     ]
    }
   ],
   "source": [
    "my_list = [2, 4, 6, 8, 10, 12, 14, 16, 18, 20]\n",
    "my_iter = iter(my_list)\n",
    "for _ in range(5):\n",
    "    print(next(my_iter))"
   ]
  },
  {
   "cell_type": "markdown",
   "id": "d44e0021-3e65-4c5c-a36a-79b6bcaa58be",
   "metadata": {},
   "source": [
    "## Q4. What is a generator function in python? Why yield keyword is used? Give an example of a generator function."
   ]
  },
  {
   "cell_type": "markdown",
   "id": "e27265bd-8eaf-4c73-88c7-a9c22f7c1528",
   "metadata": {},
   "source": [
    "A generator function is a special type of function in Python that allows you to iterate over a potentially large sequence of data without loading the entire sequence into memory. The yield keyword is used to produce a sequence of values over time, and it allows the function to \"yield\" control back to the caller while maintaining its state."
   ]
  },
  {
   "cell_type": "code",
   "execution_count": 7,
   "id": "02a8604b-d47e-4ec2-a932-a30c50bc14df",
   "metadata": {},
   "outputs": [
    {
     "name": "stdout",
     "output_type": "stream",
     "text": [
      "0\n",
      "1\n",
      "2\n",
      "3\n",
      "4\n"
     ]
    }
   ],
   "source": [
    "def generate_numbers():\n",
    "    for num in range(5):\n",
    "        yield num\n",
    "for value in generate_numbers():\n",
    "    print(value)\n"
   ]
  },
  {
   "cell_type": "markdown",
   "id": "d92c30a9-892d-4023-aebd-9ad0edf46218",
   "metadata": {},
   "source": [
    "## Q5. Create a generator function for prime numbers less than 1000. Use the next() method to print the first 20 prime numbers."
   ]
  },
  {
   "cell_type": "code",
   "execution_count": 14,
   "id": "6a76e688-6a2e-4fee-9261-6b42f203529f",
   "metadata": {},
   "outputs": [
    {
     "name": "stdout",
     "output_type": "stream",
     "text": [
      "2\n",
      "3\n",
      "5\n",
      "7\n",
      "11\n",
      "13\n",
      "17\n",
      "19\n",
      "23\n",
      "29\n",
      "31\n",
      "37\n",
      "41\n",
      "43\n",
      "47\n",
      "53\n",
      "59\n",
      "61\n",
      "67\n",
      "71\n"
     ]
    }
   ],
   "source": [
    "def generate_primes():\n",
    "    count = 0\n",
    "    number = 2\n",
    "\n",
    "    while count < 20:\n",
    "        is_prime = True\n",
    "\n",
    "        for i in range(2, int(number ** 0.5) + 1):\n",
    "            if number % i == 0:\n",
    "                is_prime = False\n",
    "                break\n",
    "\n",
    "        if is_prime:\n",
    "            yield number\n",
    "            count += 1\n",
    "\n",
    "        number += 1\n",
    "for prime in generate_primes():\n",
    "    print(prime)\n"
   ]
  },
  {
   "cell_type": "code",
   "execution_count": null,
   "id": "7605de30-545e-48eb-ade0-7bdd04e62215",
   "metadata": {},
   "outputs": [],
   "source": []
  }
 ],
 "metadata": {
  "kernelspec": {
   "display_name": "Python 3 (ipykernel)",
   "language": "python",
   "name": "python3"
  },
  "language_info": {
   "codemirror_mode": {
    "name": "ipython",
    "version": 3
   },
   "file_extension": ".py",
   "mimetype": "text/x-python",
   "name": "python",
   "nbconvert_exporter": "python",
   "pygments_lexer": "ipython3",
   "version": "3.10.8"
  }
 },
 "nbformat": 4,
 "nbformat_minor": 5
}
