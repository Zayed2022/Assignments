{
  "nbformat": 4,
  "nbformat_minor": 0,
  "metadata": {
    "colab": {
      "provenance": [],
      "authorship_tag": "ABX9TyOopB331ajyngH26Q9vlIep",
      "include_colab_link": true
    },
    "kernelspec": {
      "name": "python3",
      "display_name": "Python 3"
    },
    "language_info": {
      "name": "python"
    }
  },
  "cells": [
    {
      "cell_type": "markdown",
      "metadata": {
        "id": "view-in-github",
        "colab_type": "text"
      },
      "source": [
        "<a href=\"https://colab.research.google.com/github/Zayed2022/Assignments/blob/main/pandas2502.ipynb\" target=\"_parent\"><img src=\"https://colab.research.google.com/assets/colab-badge.svg\" alt=\"Open In Colab\"/></a>"
      ]
    },
    {
      "cell_type": "markdown",
      "source": [
        "Q1. Write a code to print the data present in the second row of the DataFrame df."
      ],
      "metadata": {
        "id": "MC-swmMTwRbi"
      }
    },
    {
      "cell_type": "code",
      "execution_count": 1,
      "metadata": {
        "colab": {
          "base_uri": "https://localhost:8080/"
        },
        "id": "liQYgFuzwOMR",
        "outputId": "f2fb2296-e9ed-4cb4-ea3c-f3e18c0e5698"
      },
      "outputs": [
        {
          "output_type": "stream",
          "name": "stdout",
          "text": [
            "course_name    Machine Learning\n",
            "duration                      3\n",
            "Name: 1, dtype: object\n"
          ]
        }
      ],
      "source": [
        "import pandas as pd\n",
        "course_name = ['Data Science', 'Machine Learning', 'Big Data', 'Data Engineer']\n",
        "duration = [2, 3, 6, 4]\n",
        "df = pd.DataFrame(data={'course_name': course_name, 'duration': duration})\n",
        "\n",
        "# Print second row (index 1)\n",
        "print(df.iloc[1])\n"
      ]
    },
    {
      "cell_type": "markdown",
      "source": [
        "Q2. What is the difference between the functions loc and iloc in pandas.DataFrame?\n",
        "<br>loc: Used for label-based indexing. It selects data by row labels or boolean array.\n",
        "i<br>loc: Used for positional-based indexing. It selects data by row positions (integer locations)."
      ],
      "metadata": {
        "id": "fG8DYZdJxO3x"
      }
    },
    {
      "cell_type": "code",
      "source": [
        "# Using loc (label-based)\n",
        "print(df.loc[1])  # Retrieves the row with label 1\n",
        "\n",
        "# Using iloc (position-based)\n",
        "print(df.iloc[1])  # Retrieves the second row (index position 1)\n"
      ],
      "metadata": {
        "colab": {
          "base_uri": "https://localhost:8080/"
        },
        "id": "Lsrwu9A9xNDr",
        "outputId": "c67e513a-42fd-447b-99ba-4bf99c61ce3b"
      },
      "execution_count": 2,
      "outputs": [
        {
          "output_type": "stream",
          "name": "stdout",
          "text": [
            "course_name    Machine Learning\n",
            "duration                      3\n",
            "Name: 1, dtype: object\n",
            "course_name    Machine Learning\n",
            "duration                      3\n",
            "Name: 1, dtype: object\n"
          ]
        }
      ]
    },
    {
      "cell_type": "markdown",
      "source": [
        "Q3. Reindex the DataFrame using reindex = [3,0,1,2] and find the output for both new_df.loc[2] and new_df.iloc[2]."
      ],
      "metadata": {
        "id": "rOzxk_fXxWf_"
      }
    },
    {
      "cell_type": "code",
      "source": [
        "# Reindexing\n",
        "reindex = [3, 0, 1, 2]\n",
        "new_df = df.reindex(reindex)\n",
        "\n",
        "# Output for new_df.loc[2]\n",
        "print(new_df.loc[2])\n",
        "\n",
        "# Output for new_df.iloc[2]\n",
        "print(new_df.iloc[2])\n"
      ],
      "metadata": {
        "colab": {
          "base_uri": "https://localhost:8080/"
        },
        "id": "YqeIjS2TxUI9",
        "outputId": "4ff06ff5-2a4e-41ac-ad3a-04f11ef8db46"
      },
      "execution_count": 3,
      "outputs": [
        {
          "output_type": "stream",
          "name": "stdout",
          "text": [
            "course_name    Big Data\n",
            "duration              6\n",
            "Name: 2, dtype: object\n",
            "course_name    Machine Learning\n",
            "duration                      3\n",
            "Name: 1, dtype: object\n"
          ]
        }
      ]
    },
    {
      "cell_type": "markdown",
      "source": [
        "<br>new_df.loc[2] will print the row with the label 2.\n",
        "<br>new_df.iloc[2] will print the row at the third position (index 2) after reindexing."
      ],
      "metadata": {
        "id": "KjvKY5Q2xcL7"
      }
    },
    {
      "cell_type": "markdown",
      "source": [
        "Q4. Write a code to find the following statistical measurements for the DataFrame df1:"
      ],
      "metadata": {
        "id": "I9SbgIVpxmFQ"
      }
    },
    {
      "cell_type": "code",
      "source": [
        "import numpy as np\n",
        "columns = ['column_1', 'column_2', 'column_3', 'column_4', 'column_5', 'column_6']\n",
        "indices = [1, 2, 3, 4, 5, 6]\n",
        "df1 = pd.DataFrame(np.random.rand(6, 6), columns=columns, index=indices)\n",
        "\n",
        "# (i) Mean of each column\n",
        "print(df1.mean())\n",
        "\n",
        "# (ii) Standard deviation of 'column_2'\n",
        "print(df1['column_2'].std())\n"
      ],
      "metadata": {
        "colab": {
          "base_uri": "https://localhost:8080/"
        },
        "id": "gWSHQ1MCxZgD",
        "outputId": "035cb3ce-bd78-4486-97f9-e3cc99b60d73"
      },
      "execution_count": 4,
      "outputs": [
        {
          "output_type": "stream",
          "name": "stdout",
          "text": [
            "column_1    0.456164\n",
            "column_2    0.312056\n",
            "column_3    0.659479\n",
            "column_4    0.449033\n",
            "column_5    0.566757\n",
            "column_6    0.532844\n",
            "dtype: float64\n",
            "0.2947263180504063\n"
          ]
        }
      ]
    },
    {
      "cell_type": "markdown",
      "source": [
        "Q5. Replace the data present in the second row of column column_2 with a string variable, then find the mean of column_2."
      ],
      "metadata": {
        "id": "R_M32FIaxw5F"
      }
    },
    {
      "cell_type": "code",
      "source": [
        "# Replacing second row of 'column_2' with a string\n",
        "df1.loc[2, 'column_2'] = 'string_value'\n",
        "\n",
        "# Trying to calculate mean will cause an error\n",
        "try:\n",
        "    print(df1['column_2'].mean())\n",
        "except TypeError as e:\n",
        "    print(f\"Error: {e}\")\n"
      ],
      "metadata": {
        "colab": {
          "base_uri": "https://localhost:8080/"
        },
        "id": "pF3KdX9CxpFq",
        "outputId": "2b537d45-058c-4e2d-e76d-fccd99f0d23e"
      },
      "execution_count": 5,
      "outputs": [
        {
          "output_type": "stream",
          "name": "stdout",
          "text": [
            "Error: unsupported operand type(s) for +: 'float' and 'str'\n"
          ]
        },
        {
          "output_type": "stream",
          "name": "stderr",
          "text": [
            "<ipython-input-5-37923e773850>:2: FutureWarning: Setting an item of incompatible dtype is deprecated and will raise an error in a future version of pandas. Value 'string_value' has dtype incompatible with float64, please explicitly cast to a compatible dtype first.\n",
            "  df1.loc[2, 'column_2'] = 'string_value'\n"
          ]
        }
      ]
    },
    {
      "cell_type": "markdown",
      "source": [
        "Q6. What do you understand about the window function in pandas and list the types of window functions?<br>\n",
        "answer:<br>Window function: These functions perform calculations over a sliding window of rows. The window can be a fixed number of rows or a time period.<br>\n",
        "Types of window functions in pandas:<br>\n",
        "Rolling: Calculates statistics over a rolling window.<br>\n",
        "Expanding: Calculates statistics over an expanding window (growing over time).<br>\n",
        "EWM (Exponential Weighted Functions): Applies exponentially weighted statistics to the data.\n",
        "\n",
        "\n",
        "\n",
        "\n",
        "\n",
        "\n",
        "\n",
        "\n"
      ],
      "metadata": {
        "id": "MYPXizw6x1AY"
      }
    },
    {
      "cell_type": "markdown",
      "source": [
        "Q7. Write a code to print only the current month and year at the time of answering this question."
      ],
      "metadata": {
        "id": "TIC61RJ1yEVA"
      }
    },
    {
      "cell_type": "code",
      "source": [
        "import pandas as pd\n",
        "\n",
        "# Current month and year\n",
        "current_date = pd.Timestamp.now()\n",
        "print(f\"Month: {current_date.month}, Year: {current_date.year}\")\n"
      ],
      "metadata": {
        "colab": {
          "base_uri": "https://localhost:8080/"
        },
        "id": "D0N5Dutyxyw1",
        "outputId": "cc41d79c-9506-48fe-a5c5-dce34a5de88c"
      },
      "execution_count": 6,
      "outputs": [
        {
          "output_type": "stream",
          "name": "stdout",
          "text": [
            "Month: 10, Year: 2024\n"
          ]
        }
      ]
    },
    {
      "cell_type": "markdown",
      "source": [
        "Q8. Write a Python program that takes two dates as input and calculates the difference between them in days, hours, and minutes using Pandas time delta.\n"
      ],
      "metadata": {
        "id": "mOKu7a3qyI4H"
      }
    },
    {
      "cell_type": "code",
      "source": [
        "import pandas as pd\n",
        "\n",
        "# Input from the user\n",
        "date1 = input(\"Enter the first date (YYYY-MM-DD): \")\n",
        "date2 = input(\"Enter the second date (YYYY-MM-DD): \")\n",
        "\n",
        "# Convert to datetime\n",
        "date1 = pd.to_datetime(date1)\n",
        "date2 = pd.to_datetime(date2)\n",
        "\n",
        "# Calculate the time difference\n",
        "time_difference = date2 - date1\n",
        "\n",
        "# Print the difference in days, hours, and minutes\n",
        "days = time_difference.days\n",
        "hours, remainder = divmod(time_difference.seconds, 3600)\n",
        "minutes, _ = divmod(remainder, 60)\n",
        "print(f\"Difference: {days} days, {hours} hours, and {minutes} minutes.\")\n"
      ],
      "metadata": {
        "colab": {
          "base_uri": "https://localhost:8080/"
        },
        "id": "DSHo28TmyGK8",
        "outputId": "2ade09a4-57fa-42d9-99b6-7b9e8cef2848"
      },
      "execution_count": 8,
      "outputs": [
        {
          "output_type": "stream",
          "name": "stdout",
          "text": [
            "Enter the first date (YYYY-MM-DD): 2003-11-30\n",
            "Enter the second date (YYYY-MM-DD): 2024-10-15\n",
            "Difference: 7625 days, 0 hours, and 0 minutes.\n"
          ]
        }
      ]
    },
    {
      "cell_type": "markdown",
      "source": [
        "Q9. Write a Python program that reads a CSV file containing categorical data and converts a specified column to a categorical data type."
      ],
      "metadata": {
        "id": "YowhoJVKygVG"
      }
    },
    {
      "cell_type": "code",
      "source": [
        "import pandas as pd\n",
        "\n",
        "# User input for file path and column to convert\n",
        "file_path = input(\"Enter the CSV file path: \")\n",
        "column_name = input(\"Enter the column name to convert to categorical: \")\n",
        "category_order = input(\"Enter category order (comma-separated): \").split(',')\n",
        "\n",
        "# Read CSV file\n",
        "df = pd.read_csv(file_path)\n",
        "\n",
        "# Convert the specified column to categorical data type\n",
        "df[column_name] = pd.Categorical(df[column_name], categories=category_order, ordered=True)\n",
        "\n",
        "# Display sorted data\n",
        "print(df.sort_values(by=column_name))\n"
      ],
      "metadata": {
        "collapsed": true,
        "id": "UXR9j3tOyLiO"
      },
      "execution_count": null,
      "outputs": []
    },
    {
      "cell_type": "markdown",
      "source": [
        "Q10. Write a Python program that reads a CSV file containing sales data and visualizes the data using a stacked bar chart.\n"
      ],
      "metadata": {
        "id": "haHMiNVGywH0"
      }
    },
    {
      "cell_type": "code",
      "source": [
        "import pandas as pd\n",
        "import matplotlib.pyplot as plt\n",
        "\n",
        "# Input from the user\n",
        "file_path = input(\"Enter the CSV file path: \")\n",
        "\n",
        "# Read CSV file\n",
        "df = pd.read_csv(file_path)\n",
        "\n",
        "# Pivot data for visualization\n",
        "df_pivot = df.pivot(index='Date', columns='Product_Category', values='Sales')\n",
        "\n",
        "# Plot stacked bar chart\n",
        "df_pivot.plot(kind='bar', stacked=True)\n",
        "plt.title('Sales by Product Category Over Time')\n",
        "plt.xlabel('Date')\n",
        "plt.ylabel('Sales')\n",
        "plt.show()\n"
      ],
      "metadata": {
        "id": "eiqQP7hEykza"
      },
      "execution_count": null,
      "outputs": []
    },
    {
      "cell_type": "markdown",
      "source": [
        "Q11. Write a Python program that reads a CSV file containing student data and calculates the mean, median, and mode of the test scores."
      ],
      "metadata": {
        "id": "4iqaDVggy2ZG"
      }
    },
    {
      "cell_type": "code",
      "source": [
        "import pandas as pd\n",
        "\n",
        "# User input for file path\n",
        "file_path = input(\"Enter the file path of the CSV file: \")\n",
        "\n",
        "# Read CSV file\n",
        "df = pd.read_csv(file_path)\n",
        "\n",
        "# Calculate statistics\n",
        "mean_score = df['Test Score'].mean()\n",
        "median_score = df['Test Score'].median()\n",
        "mode_score = df['Test Score'].mode()\n",
        "\n",
        "# Display the results in a table format\n",
        "print(f\"+-----------+--------+\")\n",
        "print(f\"| Statistic | Value  |\")\n",
        "print(f\"+-----------+--------+\")\n",
        "print(f\"| Mean      | {mean_score:.1f} |\")\n",
        "print(f\"| Median    | {median_score:.1f} |\")\n",
        "print(f\"| Mode      | {', '.join(map(str, mode_score))} |\")\n",
        "print(f\"+-----------+--------+\")\n"
      ],
      "metadata": {
        "id": "zgV9dCS3y4aG"
      },
      "execution_count": null,
      "outputs": []
    }
  ]
}