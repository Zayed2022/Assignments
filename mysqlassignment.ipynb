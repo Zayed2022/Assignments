{
 "cells": [
  {
   "cell_type": "markdown",
   "id": "92614b78-7686-467d-bef2-f27c8c7a2628",
   "metadata": {},
   "source": [
    "MySql Assignment"
   ]
  },
  {
   "cell_type": "markdown",
   "id": "c14716ad-ed97-47d6-8200-e18100fd8106",
   "metadata": {},
   "source": [
    "Q1. What is a database? Differentiate between SQL and NoSQL databases.\n"
   ]
  },
  {
   "cell_type": "markdown",
   "id": "2ed6e9ca-3cad-402f-a210-f8019decd55f",
   "metadata": {},
   "source": [
    "Database: A database is an organized collection of data, typically stored and accessed electronically from a computer system. It is designed to manage, store, and retrieve data efficiently.\n",
    "\n",
    "SQL (Structured Query Language) Databases:\n",
    "\n",
    "Definition: SQL databases are relational databases that store data in tables and use SQL for querying and maintaining the database.\n",
    "Examples: MySQL, PostgreSQL, SQLite, Oracle, SQL Server.\n",
    "Characteristics: Structured, predefined schema, support for transactions, strong consistency, and ACID properties (Atomicity, Consistency, Isolation, Durability).\n",
    "NoSQL (Not Only SQL) Databases:\n",
    "\n",
    "Definition: NoSQL databases are non-relational databases that don't use SQL for querying (or use a variant of SQL). They are designed to be more flexible and scalable than SQL databases.\n",
    "Examples: MongoDB, Cassandra, Redis, Couchbase.\n",
    "Characteristics: Schema-less, flexible data models, eventual consistency, horizontal scalability, and distributed architecture."
   ]
  },
  {
   "cell_type": "markdown",
   "id": "e4606641-3b59-4848-8965-8d4fe40bacf7",
   "metadata": {},
   "source": [
    "Q2. What is DDL? Explain why CREATE, DROP, ALTER, and TRUNCATE are used with an example."
   ]
  },
  {
   "cell_type": "markdown",
   "id": "b2c6e310-ecce-4097-9eda-9e09bd19c013",
   "metadata": {},
   "source": [
    "DDL (Data Definition Language): DDL is used to define the structure of the database.\n",
    "\n",
    "CREATE: Used to create objects (e.g., tables, views, indexes) in the database.\n",
    "CREATE TABLE employees (\n",
    "    id INT PRIMARY KEY,\n",
    "    name VARCHAR(100),\n",
    "    department VARCHAR(100)\n",
    ");\n",
    "\n",
    "DROP: Used to delete objects (e.g., tables) from the database.\n",
    "DROP TABLE employees;\n",
    "\n",
    "ALTER: Used to modify objects (e.g., tables, columns) in the database.\n",
    "ALTER TABLE employees ADD COLUMN salary DECIMAL(10, 2);\n",
    "\n",
    "TRUNCATE: Used to remove all records from a table but keep its structure intact.\n",
    "TRUNCATE TABLE employees;"
   ]
  },
  {
   "cell_type": "markdown",
   "id": "415db888-7e02-41cf-9eb5-4550ba95da58",
   "metadata": {},
   "source": [
    "Q3. What is DML? Explain INSERT, UPDATE, and DELETE with an example."
   ]
  },
  {
   "cell_type": "markdown",
   "id": "0a9c0549-4790-4428-baf8-6ea60190e3b6",
   "metadata": {},
   "source": [
    "DML (Data Manipulation Language): DML is used for managing data within database objects.\n",
    "\n",
    "INSERT: Used to insert new records into a table.\n",
    "INSERT INTO employees (id, name, department, salary)\n",
    "VALUES (1, 'John Doe', 'IT', 50000);\n",
    "\n",
    "UPDATE: Used to modify existing records in a table.\n",
    "UPDATE employees SET salary = 55000 WHERE id = 1;\n",
    "\n",
    "DELETE: Used to delete records from a table.\n",
    "DELETE FROM employees WHERE id = 1;"
   ]
  },
  {
   "cell_type": "markdown",
   "id": "9f280a82-2df0-49d7-8b79-5964adc643bd",
   "metadata": {},
   "source": [
    "Q4. What is DQL? Explain SELECT with an example.\n",
    "\n",
    "DQL (Data Query Language): DQL is used to retrieve data from the database.\n",
    "\n",
    "SELECT: Used to fetch data from one or more tables.\n",
    "SELECT * FROM employees WHERE department = 'IT';"
   ]
  },
  {
   "cell_type": "markdown",
   "id": "49063869-4150-456d-95e6-3dfe018f3df7",
   "metadata": {},
   "source": [
    "Q5. Explain Primary Key and Foreign Key.\n",
    "\n",
    "Primary Key:\n",
    "A primary key is a column or a set of columns that uniquely identifies each row in a table.\n",
    "It must contain unique values and cannot have NULL values.\n",
    "Example:\n",
    "CREATE TABLE employees (\n",
    "    id INT PRIMARY KEY,\n",
    "    name VARCHAR(100),\n",
    "    department_id INT,\n",
    "    FOREIGN KEY (department_id) REFERENCES departments(id)\n",
    ");\n",
    "\n",
    "Foreign Key:\n",
    "A foreign key is a column or a combination of columns that is used to establish and enforce a link between the data in two tables.\n",
    "It creates a relationship between two tables and refers to the primary key of another table.\n",
    "Example:\n",
    "CREATE TABLE departments (\n",
    "    id INT PRIMARY KEY,\n",
    "    name VARCHAR(100)\n",
    ");\n",
    "CREATE TABLE employees (\n",
    "    id INT PRIMARY KEY,\n",
    "    name VARCHAR(100),\n",
    "    department_id INT,\n",
    "    FOREIGN KEY (department_id) REFERENCES departments(id)\n",
    ");"
   ]
  },
  {
   "cell_type": "markdown",
   "id": "9972004b-66f7-495b-801d-98441ef1c219",
   "metadata": {},
   "source": [
    "Q6. Write a Python code to connect MySQL to Python. Explain the cursor() and execute() method.\n",
    "import mysql.connector\n",
    "mydb = mysql.connector.connect(\n",
    "    host=\"localhost\",\n",
    "    user=\"yourusername\",\n",
    "    password=\"yourpassword\",\n",
    "    database=\"yourdatabase\"\n",
    ")\n",
    "\n",
    "# Creating a cursor object using the cursor() method\n",
    "mycursor = mydb.cursor()\n",
    "\n",
    "# Using the execute() method to execute SQL queries\n",
    "mycursor.execute(\"SELECT * FROM employees\")\n",
    "\n",
    "# Fetching data from the executed query\n",
    "result = mycursor.fetchall()\n",
    "for row in result:\n",
    "    print(row)\n",
    "\n",
    "# Closing the cursor and connection\n",
    "mycursor.close()\n",
    "mydb.close()\n",
    "cursor(): This method creates a cursor object which is used to execute SQL queries in Python.\n",
    "\n",
    "execute(): This method is used to execute SQL queries. It can execute parameterized queries and fetch data from the database.\n"
   ]
  },
  {
   "cell_type": "code",
   "execution_count": null,
   "id": "467a6d93-1111-4ae6-a1f2-dca464e5fbc7",
   "metadata": {},
   "outputs": [],
   "source": [
    "Q7. Give the order of execution of SQL clauses in an SQL query.\n",
    "\n",
    "The order of SQL clauses in a query is typically as follows:\n",
    "SELECT: Specifies the columns to be retrieved from one or more tables.\n",
    "FROM: Specifies the tables from which to retrieve the data.\n",
    "WHERE: Filters the rows based on a condition.\n",
    "GROUP BY: Groups the rows that have the same values into summary rows.\n",
    "HAVING: Filters the groups that are returned by the GROUP BY clause.\n",
    "ORDER BY: Sorts the result set in ascending or descending order.\n",
    "LIMIT/OFFSET: Limits the number of rows returned.\n",
    "For example:\n",
    "SELECT column1, column2\n",
    "FROM table\n",
    "WHERE condition\n",
    "GROUP BY column1\n",
    "HAVING condition\n",
    "ORDER BY column1 ASC\n",
    "LIMIT 10 OFFSET 20;"
   ]
  }
 ],
 "metadata": {
  "kernelspec": {
   "display_name": "Python 3 (ipykernel)",
   "language": "python",
   "name": "python3"
  },
  "language_info": {
   "codemirror_mode": {
    "name": "ipython",
    "version": 3
   },
   "file_extension": ".py",
   "mimetype": "text/x-python",
   "name": "python",
   "nbconvert_exporter": "python",
   "pygments_lexer": "ipython3",
   "version": "3.11.4"
  }
 },
 "nbformat": 4,
 "nbformat_minor": 5
}
