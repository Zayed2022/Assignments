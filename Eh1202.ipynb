{
  "nbformat": 4,
  "nbformat_minor": 0,
  "metadata": {
    "colab": {
      "provenance": [],
      "authorship_tag": "ABX9TyP6LXG0lxV5faeLdYgjo/21",
      "include_colab_link": true
    },
    "kernelspec": {
      "name": "python3",
      "display_name": "Python 3"
    },
    "language_info": {
      "name": "python"
    }
  },
  "cells": [
    {
      "cell_type": "markdown",
      "metadata": {
        "id": "view-in-github",
        "colab_type": "text"
      },
      "source": [
        "<a href=\"https://colab.research.google.com/github/Zayed2022/Assignments/blob/main/Eh1202.ipynb\" target=\"_parent\"><img src=\"https://colab.research.google.com/assets/colab-badge.svg\" alt=\"Open In Colab\"/></a>"
      ]
    },
    {
      "cell_type": "markdown",
      "source": [
        "Q1: What is an Exception in Python? Write the difference between Exceptions and Syntax Errors.\n"
      ],
      "metadata": {
        "id": "73W_zlc6k6Ul"
      }
    },
    {
      "cell_type": "markdown",
      "source": [
        "Exception: An exception in Python is an error that occurs during the execution of a program. When a Python program encounters an exception, it stops executing unless the exception is caught and handled properly.\n",
        "\n",
        "Difference between Exceptions and Syntax Errors:\n",
        "\n",
        "Exceptions are errors that occur during program execution (runtime). They are raised due to operations like dividing by zero, accessing an invalid index, etc.\n",
        "Syntax Errors are errors in the structure or grammar of the code, such as missing colons or incorrect indentation. These are detected before the program starts running."
      ],
      "metadata": {
        "id": "Z7Yyvqn_lAPF"
      }
    },
    {
      "cell_type": "code",
      "source": [
        "# Syntax Error Example\n",
        "if True print(\"Hello\")  # Missing colon, this is a syntax error.\n",
        "\n"
      ],
      "metadata": {
        "colab": {
          "base_uri": "https://localhost:8080/",
          "height": 106
        },
        "id": "fIIi_Zjuk_e3",
        "outputId": "eaea58f9-4cac-4752-952d-a248efad7f46"
      },
      "execution_count": 1,
      "outputs": [
        {
          "output_type": "error",
          "ename": "SyntaxError",
          "evalue": "invalid syntax (<ipython-input-1-2b61d9992304>, line 2)",
          "traceback": [
            "\u001b[0;36m  File \u001b[0;32m\"<ipython-input-1-2b61d9992304>\"\u001b[0;36m, line \u001b[0;32m2\u001b[0m\n\u001b[0;31m    if True print(\"Hello\")  # Missing colon, this is a syntax error.\u001b[0m\n\u001b[0m            ^\u001b[0m\n\u001b[0;31mSyntaxError\u001b[0m\u001b[0;31m:\u001b[0m invalid syntax\n"
          ]
        }
      ]
    },
    {
      "cell_type": "code",
      "source": [
        "\n",
        "# Exception Example\n",
        "x = 10 / 0  # ZeroDivisionError, which is an exception that occurs during execution."
      ],
      "metadata": {
        "colab": {
          "base_uri": "https://localhost:8080/",
          "height": 158
        },
        "id": "iPc-vUAAlSfF",
        "outputId": "61d626fe-7a93-4df7-a97a-bc281fed4573"
      },
      "execution_count": 2,
      "outputs": [
        {
          "output_type": "error",
          "ename": "ZeroDivisionError",
          "evalue": "division by zero",
          "traceback": [
            "\u001b[0;31m---------------------------------------------------------------------------\u001b[0m",
            "\u001b[0;31mZeroDivisionError\u001b[0m                         Traceback (most recent call last)",
            "\u001b[0;32m<ipython-input-2-b892ac5030e6>\u001b[0m in \u001b[0;36m<cell line: 2>\u001b[0;34m()\u001b[0m\n\u001b[1;32m      1\u001b[0m \u001b[0;31m# Exception Example\u001b[0m\u001b[0;34m\u001b[0m\u001b[0;34m\u001b[0m\u001b[0m\n\u001b[0;32m----> 2\u001b[0;31m \u001b[0mx\u001b[0m \u001b[0;34m=\u001b[0m \u001b[0;36m10\u001b[0m \u001b[0;34m/\u001b[0m \u001b[0;36m0\u001b[0m  \u001b[0;31m# ZeroDivisionError, which is an exception that occurs during execution.\u001b[0m\u001b[0;34m\u001b[0m\u001b[0;34m\u001b[0m\u001b[0m\n\u001b[0m",
            "\u001b[0;31mZeroDivisionError\u001b[0m: division by zero"
          ]
        }
      ]
    },
    {
      "cell_type": "markdown",
      "source": [
        "Q2. What happens when an exception is not handled? Explain with an example."
      ],
      "metadata": {
        "id": "QXKwx-axlJwP"
      }
    },
    {
      "cell_type": "markdown",
      "source": [
        "When an exception is not handled, the program terminates abruptly, and an error traceback is displayed, showing where the exception occurred."
      ],
      "metadata": {
        "id": "kJ3UK0umlZOj"
      }
    },
    {
      "cell_type": "code",
      "source": [
        "def divide_numbers(a, b):\n",
        "    return a / b\n",
        "\n",
        "result = divide_numbers(5, 0)  # This will raise a ZeroDivisionError.\n",
        "print(result)  # This line will not be executed.\n",
        "\n",
        "# Output: ZeroDivisionError: division by zero\n"
      ],
      "metadata": {
        "colab": {
          "base_uri": "https://localhost:8080/",
          "height": 332
        },
        "id": "Ht1hlYWdlDwh",
        "outputId": "e8631223-d988-4efb-904c-2dbaacbcb373"
      },
      "execution_count": 3,
      "outputs": [
        {
          "output_type": "error",
          "ename": "ZeroDivisionError",
          "evalue": "division by zero",
          "traceback": [
            "\u001b[0;31m---------------------------------------------------------------------------\u001b[0m",
            "\u001b[0;31mZeroDivisionError\u001b[0m                         Traceback (most recent call last)",
            "\u001b[0;32m<ipython-input-3-025ff5997255>\u001b[0m in \u001b[0;36m<cell line: 4>\u001b[0;34m()\u001b[0m\n\u001b[1;32m      2\u001b[0m     \u001b[0;32mreturn\u001b[0m \u001b[0ma\u001b[0m \u001b[0;34m/\u001b[0m \u001b[0mb\u001b[0m\u001b[0;34m\u001b[0m\u001b[0;34m\u001b[0m\u001b[0m\n\u001b[1;32m      3\u001b[0m \u001b[0;34m\u001b[0m\u001b[0m\n\u001b[0;32m----> 4\u001b[0;31m \u001b[0mresult\u001b[0m \u001b[0;34m=\u001b[0m \u001b[0mdivide_numbers\u001b[0m\u001b[0;34m(\u001b[0m\u001b[0;36m5\u001b[0m\u001b[0;34m,\u001b[0m \u001b[0;36m0\u001b[0m\u001b[0;34m)\u001b[0m  \u001b[0;31m# This will raise a ZeroDivisionError.\u001b[0m\u001b[0;34m\u001b[0m\u001b[0;34m\u001b[0m\u001b[0m\n\u001b[0m\u001b[1;32m      5\u001b[0m \u001b[0mprint\u001b[0m\u001b[0;34m(\u001b[0m\u001b[0mresult\u001b[0m\u001b[0;34m)\u001b[0m  \u001b[0;31m# This line will not be executed.\u001b[0m\u001b[0;34m\u001b[0m\u001b[0;34m\u001b[0m\u001b[0m\n\u001b[1;32m      6\u001b[0m \u001b[0;34m\u001b[0m\u001b[0m\n",
            "\u001b[0;32m<ipython-input-3-025ff5997255>\u001b[0m in \u001b[0;36mdivide_numbers\u001b[0;34m(a, b)\u001b[0m\n\u001b[1;32m      1\u001b[0m \u001b[0;32mdef\u001b[0m \u001b[0mdivide_numbers\u001b[0m\u001b[0;34m(\u001b[0m\u001b[0ma\u001b[0m\u001b[0;34m,\u001b[0m \u001b[0mb\u001b[0m\u001b[0;34m)\u001b[0m\u001b[0;34m:\u001b[0m\u001b[0;34m\u001b[0m\u001b[0;34m\u001b[0m\u001b[0m\n\u001b[0;32m----> 2\u001b[0;31m     \u001b[0;32mreturn\u001b[0m \u001b[0ma\u001b[0m \u001b[0;34m/\u001b[0m \u001b[0mb\u001b[0m\u001b[0;34m\u001b[0m\u001b[0;34m\u001b[0m\u001b[0m\n\u001b[0m\u001b[1;32m      3\u001b[0m \u001b[0;34m\u001b[0m\u001b[0m\n\u001b[1;32m      4\u001b[0m \u001b[0mresult\u001b[0m \u001b[0;34m=\u001b[0m \u001b[0mdivide_numbers\u001b[0m\u001b[0;34m(\u001b[0m\u001b[0;36m5\u001b[0m\u001b[0;34m,\u001b[0m \u001b[0;36m0\u001b[0m\u001b[0;34m)\u001b[0m  \u001b[0;31m# This will raise a ZeroDivisionError.\u001b[0m\u001b[0;34m\u001b[0m\u001b[0;34m\u001b[0m\u001b[0m\n\u001b[1;32m      5\u001b[0m \u001b[0mprint\u001b[0m\u001b[0;34m(\u001b[0m\u001b[0mresult\u001b[0m\u001b[0;34m)\u001b[0m  \u001b[0;31m# This line will not be executed.\u001b[0m\u001b[0;34m\u001b[0m\u001b[0;34m\u001b[0m\u001b[0m\n",
            "\u001b[0;31mZeroDivisionError\u001b[0m: division by zero"
          ]
        }
      ]
    },
    {
      "cell_type": "markdown",
      "source": [
        "Q3: Which Python statements are used to catch and handle exceptions? Explain with an example."
      ],
      "metadata": {
        "id": "X2HWtq1xlihZ"
      }
    },
    {
      "cell_type": "markdown",
      "source": [
        "**syntax**\n",
        "\n",
        "try:\n",
        "    # Code that may raise an exception\n",
        "    risky_code()\n",
        "    \n",
        "except SomeException:\n",
        "    # Code to handle the exception\n",
        "    handle_exception()"
      ],
      "metadata": {
        "id": "a5nwHSB5lrn6"
      }
    },
    {
      "cell_type": "code",
      "source": [
        "#example\n",
        "try:\n",
        "    result = 10 / 0\n",
        "except ZeroDivisionError:\n",
        "    print(\"Cannot divide by zero!\")\n"
      ],
      "metadata": {
        "colab": {
          "base_uri": "https://localhost:8080/"
        },
        "id": "oeStX0DKlhxF",
        "outputId": "b190ae1b-a9ac-4dbc-ff93-3b368e945b8f"
      },
      "execution_count": 4,
      "outputs": [
        {
          "output_type": "stream",
          "name": "stdout",
          "text": [
            "Cannot divide by zero!\n"
          ]
        }
      ]
    },
    {
      "cell_type": "markdown",
      "source": [
        "Q4: Explain with an example: try, else, finally, and raise."
      ],
      "metadata": {
        "id": "GaeSteV8mIT2"
      }
    },
    {
      "cell_type": "markdown",
      "source": [
        "try and else:\n",
        "\n",
        "The else block is executed if no exception occurs in the try block.\n",
        "finally:\n",
        "\n",
        "The finally block is always executed, regardless of whether an exception occurred or not.\n",
        "raise:\n",
        "\n",
        "The raise statement allows you to manually throw an exception."
      ],
      "metadata": {
        "id": "icysHuVdmLBI"
      }
    },
    {
      "cell_type": "code",
      "source": [
        "try:\n",
        "    number = int(input(\"Enter a number: \"))\n",
        "    result = 10 / number\n",
        "except ZeroDivisionError:\n",
        "    print(\"Division by zero is not allowed!\")\n",
        "else:\n",
        "    print(f\"Result: {result}\")\n",
        "finally:\n",
        "    print(\"This will always execute.\")\n",
        "\n",
        "# Manually raising an exception\n",
        "if number < 0:\n",
        "    raise ValueError(\"Negative numbers are not allowed!\")\n"
      ],
      "metadata": {
        "colab": {
          "base_uri": "https://localhost:8080/"
        },
        "id": "FwbYCb5slbhQ",
        "outputId": "9301df84-d50d-4c83-8f05-621c61ae5347"
      },
      "execution_count": 5,
      "outputs": [
        {
          "output_type": "stream",
          "name": "stdout",
          "text": [
            "Enter a number: 4\n",
            "Result: 2.5\n",
            "This will always execute.\n"
          ]
        }
      ]
    },
    {
      "cell_type": "markdown",
      "source": [
        "Q5: What are Custom Exceptions in Python? Why do we need Custom Exceptions? Explain with an example."
      ],
      "metadata": {
        "id": "bsBvQSEtmT_Z"
      }
    },
    {
      "cell_type": "markdown",
      "source": [
        "Custom Exceptions are user-defined exceptions that allow you to create meaningful exception types specific to the use case of your program. We need custom exceptions when the built-in exceptions do not represent the specific error condition we want to capture."
      ],
      "metadata": {
        "id": "3NYCqEtGmWmf"
      }
    },
    {
      "cell_type": "code",
      "source": [
        "class NegativeNumberError(Exception):\n",
        "    \"\"\"Custom exception for negative numbers.\"\"\"\n",
        "    pass\n",
        "\n",
        "def check_positive(number):\n",
        "    if number < 0:\n",
        "        raise NegativeNumberError(\"Negative numbers are not allowed!\")\n",
        "    return number\n",
        "\n",
        "try:\n",
        "    check_positive(-5)\n",
        "except NegativeNumberError as e:\n",
        "    print(e)\n"
      ],
      "metadata": {
        "colab": {
          "base_uri": "https://localhost:8080/"
        },
        "id": "r7FLDm7XmNiP",
        "outputId": "94be7932-555f-4c5c-f9ee-243497db52f9"
      },
      "execution_count": 6,
      "outputs": [
        {
          "output_type": "stream",
          "name": "stdout",
          "text": [
            "Negative numbers are not allowed!\n"
          ]
        }
      ]
    },
    {
      "cell_type": "markdown",
      "source": [
        "Q6: Create a custom exception class. Use this class to handle an exception."
      ],
      "metadata": {
        "id": "xqwGzAFAmZ-Q"
      }
    },
    {
      "cell_type": "code",
      "source": [
        "class AgeTooLowError(Exception):\n",
        "    \"\"\"Exception raised when the age is too low.\"\"\"\n",
        "    def __init__(self, age, message=\"Age is too low!\"):\n",
        "        self.age = age\n",
        "        self.message = message\n",
        "        super().__init__(self.message)\n",
        "\n",
        "def check_age(age):\n",
        "    if age < 18:\n",
        "        raise AgeTooLowError(age)\n",
        "\n",
        "# Handling the custom exception\n",
        "try:\n",
        "    check_age(15)\n",
        "except AgeTooLowError as e:\n",
        "    print(f\"Error: {e.message} Age: {e.age}\")\n"
      ],
      "metadata": {
        "colab": {
          "base_uri": "https://localhost:8080/"
        },
        "id": "vMA9xhbNmZB5",
        "outputId": "c1e27a22-1333-4716-d592-31f2f05853c9"
      },
      "execution_count": 7,
      "outputs": [
        {
          "output_type": "stream",
          "name": "stdout",
          "text": [
            "Error: Age is too low! Age: 15\n"
          ]
        }
      ]
    }
  ]
}