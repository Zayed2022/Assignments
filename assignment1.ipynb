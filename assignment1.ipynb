{
 "cells": [
  {
   "cell_type": "markdown",
   "id": "5f96c3f5-0b8f-4fc8-83ee-ca8b1d3bf576",
   "metadata": {},
   "source": [
    "Q1. Create one variable containing following type of data:\r\n",
    "(i) string\r\n",
    "(ii) list\r\n",
    "(iii) float\r\n",
    "(iv) tuple"
   ]
  },
  {
   "cell_type": "code",
   "execution_count": null,
   "id": "5c09ee4c-db7e-4fd5-aa97-3e426a898d00",
   "metadata": {},
   "outputs": [],
   "source": [
    "# (i) String\n",
    "strvar=\"Hello, World!\"\n",
    "\n",
    "# (ii) List\n",
    "listvar=[1, 2, 3, 4, 5]\n",
    "\n",
    "# (iii) Float\n",
    "flovar=3.14\n",
    "\n",
    "# (iv) Tuple\n",
    "tuplevar=(10, 20, 30)\n"
   ]
  },
  {
   "cell_type": "markdown",
   "id": "a4b0ad25-0ac3-487c-9f5b-0ba7c8368645",
   "metadata": {},
   "source": [
    "Q2. Given are some following variables containing data:\r\n",
    "(i) var1 = ‘ ‘\r\n",
    "(ii) var2 = ‘[ DS , ML , Python]’\r\n",
    "(iii) var3 = [ ‘DS’ , ’ML’ , ‘Python’ ]\r\n",
    "(iv) var4 = 1."
   ]
  },
  {
   "cell_type": "code",
   "execution_count": 2,
   "id": "1f7ca1eb-0797-496d-b5af-b72ff3be7947",
   "metadata": {},
   "outputs": [
    {
     "name": "stdout",
     "output_type": "stream",
     "text": [
      "<class 'str'>\n",
      "<class 'str'>\n",
      "<class 'list'>\n",
      "<class 'float'>\n"
     ]
    }
   ],
   "source": [
    "var1 = ''\n",
    "print(type(var1))\n",
    "var2 = '[ DS , ML , Python]'\n",
    "print(type(var2))\n",
    "var3 = [ 'DS' , 'ML' , 'Python' ]\n",
    "print(type(var3))\n",
    "var4 = 1.\n",
    "print(type(var4))"
   ]
  },
  {
   "cell_type": "markdown",
   "id": "40bbb566-9b8b-4a5f-b269-22e7e17f2b49",
   "metadata": {},
   "source": [
    "Q3. Explain the use of the following operators using an example:\n",
    "(i) /\n",
    "(ii) %\n",
    "(iii) //\n",
    "(iv) **"
   ]
  },
  {
   "cell_type": "code",
   "execution_count": 3,
   "id": "b42ff850-51c7-4626-a49a-4adcbf502c8c",
   "metadata": {},
   "outputs": [
    {
     "name": "stdout",
     "output_type": "stream",
     "text": [
      "3.3333333333333335\n",
      "1\n",
      "3\n",
      "8\n"
     ]
    }
   ],
   "source": [
    "result = 10 / 3\n",
    "print(result)\n",
    "\n",
    "remainder = 10 % 3\n",
    "print(remainder)\n",
    "\n",
    "quotient = 10 // 3\n",
    "print(quotient)\n",
    "\n",
    "result = 2 ** 3\n",
    "print(result)"
   ]
  },
  {
   "cell_type": "markdown",
   "id": "7e70f30c-248e-4b3f-ba83-cea932f2e645",
   "metadata": {},
   "source": [
    "Q4. Create a list of length 10 of your choice containing multiple types of data. Using for loop print the\n",
    "element and its data type."
   ]
  },
  {
   "cell_type": "code",
   "execution_count": 4,
   "id": "45788469-a8c2-4d0e-b610-69b16bc0d4da",
   "metadata": {},
   "outputs": [
    {
     "name": "stdout",
     "output_type": "stream",
     "text": [
      "Element: 1, Data Type: <class 'int'>\n",
      "Element: Hello, Data Type: <class 'str'>\n",
      "Element: 3.14, Data Type: <class 'float'>\n",
      "Element: True, Data Type: <class 'bool'>\n",
      "Element: [1, 2, 3], Data Type: <class 'list'>\n",
      "Element: {'key': 'value'}, Data Type: <class 'dict'>\n",
      "Element: (4, 5, 6), Data Type: <class 'tuple'>\n",
      "Element: None, Data Type: <class 'NoneType'>\n",
      "Element: Python, Data Type: <class 'str'>\n",
      "Element: 7, Data Type: <class 'int'>\n"
     ]
    }
   ],
   "source": [
    "my_list = [1, \"Hello\", 3.14, True, [1, 2, 3], {'key': 'value'}, (4, 5, 6), None, 'Python', 7]\n",
    "\n",
    "for element in my_list:\n",
    "    print(f\"Element: {element}, Data Type: {type(element)}\")\n"
   ]
  },
  {
   "cell_type": "markdown",
   "id": "51c017fa-6784-4322-8d66-333c79c0d55a",
   "metadata": {},
   "source": [
    "Q5. Using a while loop, verify if the number A is purely divisible by number B and if so then how many\n",
    "times it can be divisible."
   ]
  },
  {
   "cell_type": "code",
   "execution_count": 8,
   "id": "1abe77c2-3faa-4835-9c05-89ebbd0f0eff",
   "metadata": {},
   "outputs": [
    {
     "name": "stdin",
     "output_type": "stream",
     "text": [
      "Enter number A:  128\n",
      "Enter number B:  2\n"
     ]
    },
    {
     "name": "stdout",
     "output_type": "stream",
     "text": [
      "128 is purely divisible by 2 and can be divided 7 times.\n"
     ]
    }
   ],
   "source": [
    "A = int(input(\"Enter number A: \"))\n",
    "B = int(input(\"Enter number B: \"))\n",
    "a=A\n",
    "count = 0\n",
    "while A % B == 0:\n",
    "    A /= B \n",
    "    count += 1\n",
    "if A == 1:\n",
    "    print(f\"{a} is purely divisible by {B} and can be divided {count} times.\")\n",
    "else:\n",
    "    print(f\"{a} is not purely divisible by {B}.\")\n"
   ]
  },
  {
   "cell_type": "markdown",
   "id": "0438ea80-52cd-4bfe-9465-495497918649",
   "metadata": {},
   "source": [
    "Q6. Create a list containing 25 int type data. Using for loop and if-else condition print if the element is\n",
    "divisible by 3 or not."
   ]
  },
  {
   "cell_type": "code",
   "execution_count": 9,
   "id": "524174b5-688d-44ab-93ef-d8f8191e1487",
   "metadata": {},
   "outputs": [
    {
     "name": "stdout",
     "output_type": "stream",
     "text": [
      "2 is not divisible by 3.\n",
      "5 is not divisible by 3.\n",
      "9 is divisible by 3.\n",
      "12 is divisible by 3.\n",
      "15 is divisible by 3.\n",
      "18 is divisible by 3.\n",
      "21 is divisible by 3.\n",
      "24 is divisible by 3.\n",
      "27 is divisible by 3.\n",
      "30 is divisible by 3.\n",
      "33 is divisible by 3.\n",
      "36 is divisible by 3.\n",
      "39 is divisible by 3.\n",
      "42 is divisible by 3.\n",
      "45 is divisible by 3.\n",
      "48 is divisible by 3.\n",
      "51 is divisible by 3.\n",
      "54 is divisible by 3.\n",
      "57 is divisible by 3.\n",
      "60 is divisible by 3.\n",
      "63 is divisible by 3.\n",
      "66 is divisible by 3.\n",
      "69 is divisible by 3.\n",
      "72 is divisible by 3.\n",
      "75 is divisible by 3.\n"
     ]
    }
   ],
   "source": [
    "my_list = [2, 5, 9, 12, 15, 18, 21, 24, 27, 30, 33, 36, 39, 42, 45, 48, 51, 54, 57, 60, 63, 66, 69, 72, 75]\n",
    "for element in my_list:\n",
    "    if element % 3 == 0:\n",
    "        print(f\"{element} is divisible by 3.\")\n",
    "    else:\n",
    "        print(f\"{element} is not divisible by 3.\")\n"
   ]
  },
  {
   "cell_type": "markdown",
   "id": "7d397a66-293e-4547-966a-e366a15393f6",
   "metadata": {},
   "source": [
    "Q7. What do you understand about mutable and immutable data types? Give examples for both showing\n",
    "this property."
   ]
  },
  {
   "cell_type": "code",
   "execution_count": 11,
   "id": "dcb3e18b-388d-4c13-a7b3-2e72554e0e3e",
   "metadata": {},
   "outputs": [
    {
     "name": "stdout",
     "output_type": "stream",
     "text": [
      "6\n",
      "5\n",
      "2.71\n",
      "3.14\n",
      "[0, 2, 3]\n",
      "[0, 2, 3]\n",
      "{'key': 'new_value'}\n",
      "{'key': 'new_value'}\n",
      "{1, 2, 3, 4}\n",
      "{1, 2, 3, 4}\n"
     ]
    }
   ],
   "source": [
    "#Mutable and immutable are terms used to describe whether an object's state or value can be changed after it is created. In the context of programming, this concept is often applied to data types.\n",
    "\n",
    "#Immutable objects are those whose state cannot be modified after they are created. Any operation that appears to modify the object creates a new object. Common examples of immutable data types in Python include:\n",
    "\n",
    "#**int:** Integer objects are immutable.\n",
    "\n",
    "x = 5\n",
    "y = x  \n",
    "x += 1 \n",
    "print(x) \n",
    "print(y)  \n",
    "\n",
    "#2. **float:** Float objects are also immutable.\n",
    "a = 3.14\n",
    "b = a  \n",
    "a = 2.71  \n",
    "print(a)  \n",
    "print(b)  \n",
    "\n",
    "#3. **tuple:** Tuples are immutable.\n",
    "tup1 = (1, 2, 3)\n",
    "tup2 = tup1 \n",
    "\n",
    "### Mutable Data Types:\n",
    "\n",
    "#Mutable objects, on the other hand, can be modified after creation. Changes to the object affect all references to it. Common examples of mutable data types in Python include:\n",
    "\n",
    "#1. **list:** Lists are mutable.\n",
    "list1 = [1, 2, 3]\n",
    "list2 = list1  \n",
    "list1[0] = 0  \n",
    "print(list1)  \n",
    "print(list2)  \n",
    "\n",
    "\n",
    "#2. **dict:** Dictionaries are mutable.\n",
    "\n",
    "dict1 = {'key': 'value'}\n",
    "dict2 = dict1 \n",
    "dict1['key'] = 'new_value'\n",
    "print(dict1)  \n",
    "print(dict2) \n",
    "\n",
    "#3. **set:** Sets are mutable.\n",
    "set1 = {1, 2, 3}\n",
    "set2 = set1 \n",
    "set1.add(4)  \n",
    "print(set1)  \n",
    "print(set2) \n"
   ]
  },
  {
   "cell_type": "code",
   "execution_count": null,
   "id": "129859cd-0a58-494e-82de-b17a07e0fa7c",
   "metadata": {},
   "outputs": [],
   "source": []
  }
 ],
 "metadata": {
  "kernelspec": {
   "display_name": "Python 3 (ipykernel)",
   "language": "python",
   "name": "python3"
  },
  "language_info": {
   "codemirror_mode": {
    "name": "ipython",
    "version": 3
   },
   "file_extension": ".py",
   "mimetype": "text/x-python",
   "name": "python",
   "nbconvert_exporter": "python",
   "pygments_lexer": "ipython3",
   "version": "3.11.4"
  }
 },
 "nbformat": 4,
 "nbformat_minor": 5
}
