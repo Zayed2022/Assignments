{
  "nbformat": 4,
  "nbformat_minor": 0,
  "metadata": {
    "colab": {
      "provenance": [],
      "authorship_tag": "ABX9TyOy4XhbS4j7ERQI5kVqdx9a",
      "include_colab_link": true
    },
    "kernelspec": {
      "name": "python3",
      "display_name": "Python 3"
    },
    "language_info": {
      "name": "python"
    }
  },
  "cells": [
    {
      "cell_type": "markdown",
      "metadata": {
        "id": "view-in-github",
        "colab_type": "text"
      },
      "source": [
        "<a href=\"https://colab.research.google.com/github/Zayed2022/Assignments/blob/main/oops0902.ipynb\" target=\"_parent\"><img src=\"https://colab.research.google.com/assets/colab-badge.svg\" alt=\"Open In Colab\"/></a>"
      ]
    },
    {
      "cell_type": "markdown",
      "source": [
        "Q1, Create a vehicle class with an init method having instance variables as name_of_vehicle, max_speed\n",
        "and average_of_vehicle."
      ],
      "metadata": {
        "id": "e_kzuy3zcLzy"
      }
    },
    {
      "cell_type": "code",
      "source": [
        "class Vehicle:\n",
        "    def __init__(self, name_of_vehicle, max_speed, average_of_vehicle):\n",
        "        self.name_of_vehicle = name_of_vehicle\n",
        "        self.max_speed = max_speed\n",
        "        self.average_of_vehicle = average_of_vehicle\n",
        "\n",
        "    def display_info(self):\n",
        "        return f\"Vehicle: {self.name_of_vehicle}, Max Speed: {self.max_speed}, Average: {self.average_of_vehicle}\"\n",
        "\n",
        "vehicle = Vehicle(\"Bike\", 180, 40)\n",
        "print(vehicle.display_info())\n"
      ],
      "metadata": {
        "colab": {
          "base_uri": "https://localhost:8080/"
        },
        "id": "ozc7B-c4cOyR",
        "outputId": "632fecd3-0221-4bad-dfe8-bd40957001aa"
      },
      "execution_count": 1,
      "outputs": [
        {
          "output_type": "stream",
          "name": "stdout",
          "text": [
            "Vehicle: Bike, Max Speed: 180, Average: 40\n"
          ]
        }
      ]
    },
    {
      "cell_type": "markdown",
      "source": [
        "Q2. Create a child class car from the vehicle class created in Que 1, which will inherit the vehicle class.\n",
        "Create a method named seating_capacity which takes capacity as an argument and returns the name of\n",
        "the vehicle and its seating capacity."
      ],
      "metadata": {
        "id": "audk2uSycdIC"
      }
    },
    {
      "cell_type": "code",
      "source": [
        "class Car(Vehicle):\n",
        "    def seating_capacity(self, capacity):\n",
        "        return f\"{self.name_of_vehicle} has a seating capacity of {capacity}.\"\n",
        "\n",
        "car = Car(\"Sedan\", 220, 15)\n",
        "print(car.display_info())\n",
        "print(car.seating_capacity(5))"
      ],
      "metadata": {
        "colab": {
          "base_uri": "https://localhost:8080/"
        },
        "id": "9aFGt9tScfjP",
        "outputId": "298a6186-80e4-4737-96c9-3550313af940"
      },
      "execution_count": 2,
      "outputs": [
        {
          "output_type": "stream",
          "name": "stdout",
          "text": [
            "Vehicle: Sedan, Max Speed: 220, Average: 15\n",
            "Sedan has a seating capacity of 5.\n"
          ]
        }
      ]
    },
    {
      "cell_type": "markdown",
      "source": [
        "Q3. What is multiple inheritance? Write a python code to demonstrate multiple inheritance."
      ],
      "metadata": {
        "id": "NIJzdBH-cl3r"
      }
    },
    {
      "cell_type": "markdown",
      "source": [
        "Multiple inheritance is a feature in Python where a class can inherit attributes and methods from more than one parent class.\n",
        "\n"
      ],
      "metadata": {
        "id": "y6ZkshREcvRE"
      }
    },
    {
      "cell_type": "code",
      "source": [
        "class Engine:\n",
        "    def __init__(self, engine_type):\n",
        "        self.engine_type = engine_type\n",
        "\n",
        "    def display_engine(self):\n",
        "        return f\"Engine Type: {self.engine_type}\"\n",
        "\n",
        "class Body:\n",
        "    def __init__(self, body_type):\n",
        "        self.body_type = body_type\n",
        "\n",
        "    def display_body(self):\n",
        "        return f\"Body Type: {self.body_type}\"\n",
        "\n",
        "# Child class inheriting from both Engine and Body\n",
        "class Car(Engine, Body):\n",
        "    def __init__(self, engine_type, body_type, name):\n",
        "        Engine.__init__(self, engine_type)\n",
        "        Body.__init__(self, body_type)\n",
        "        self.name = name\n",
        "\n",
        "    def display_info(self):\n",
        "        return f\"Car: {self.name}, {self.display_engine()}, {self.display_body()}\"\n",
        "\n",
        "# Example usage:\n",
        "car = Car(\"V8\", \"Sedan\", \"Tesla Model S\")\n",
        "print(car.display_info())"
      ],
      "metadata": {
        "colab": {
          "base_uri": "https://localhost:8080/"
        },
        "id": "NSvPB2wtcosL",
        "outputId": "8b088b1b-b732-49fe-fee1-76cbe0cf058d"
      },
      "execution_count": 3,
      "outputs": [
        {
          "output_type": "stream",
          "name": "stdout",
          "text": [
            "Car: Tesla Model S, Engine Type: V8, Body Type: Sedan\n"
          ]
        }
      ]
    },
    {
      "cell_type": "markdown",
      "source": [
        "Q4. What are getter and setter in python? Create a class and create a getter and a setter method in this\n",
        "class."
      ],
      "metadata": {
        "id": "9BLU0TQ0c7tl"
      }
    },
    {
      "cell_type": "markdown",
      "source": [
        "Getters and setters are methods used to access and modify the attributes of a class. In Python, you can use the @property decorator to create a getter and the @<attribute_name>.setter decorator for a setter."
      ],
      "metadata": {
        "id": "g6t295NUdCvP"
      }
    },
    {
      "cell_type": "code",
      "source": [
        "class Vehicle:\n",
        "    def __init__(self, speed):\n",
        "        self._speed = speed  # Protected variable\n",
        "\n",
        "    # Getter method\n",
        "    @property\n",
        "    def speed(self):\n",
        "        return self._speed\n",
        "\n",
        "    # Setter method\n",
        "    @speed.setter\n",
        "    def speed(self, value):\n",
        "        if value < 0:\n",
        "            raise ValueError(\"Speed cannot be negative!\")\n",
        "        self._speed = value\n",
        "\n",
        "# Example usage:\n",
        "car = Vehicle(120)\n",
        "print(\"Initial Speed:\", car.speed)  # Access using getter\n",
        "\n",
        "car.speed = 150  # Modify using setter\n",
        "print(\"Updated Speed:\", car.speed)\n"
      ],
      "metadata": {
        "colab": {
          "base_uri": "https://localhost:8080/"
        },
        "id": "lu4hE_MQc-W-",
        "outputId": "c0f6f4f2-bcc2-447c-e1ec-4706ff37d1fd"
      },
      "execution_count": 4,
      "outputs": [
        {
          "output_type": "stream",
          "name": "stdout",
          "text": [
            "Initial Speed: 120\n",
            "Updated Speed: 150\n"
          ]
        }
      ]
    },
    {
      "cell_type": "markdown",
      "source": [
        "Q5.What is method overriding in python? Write a python code to demonstrate method overriding."
      ],
      "metadata": {
        "id": "C-t3sSx1dTwf"
      }
    },
    {
      "cell_type": "markdown",
      "source": [
        "Method overriding occurs when a child class has a method with the same name as a method in its parent class. The child class's method overrides the parent class's method."
      ],
      "metadata": {
        "id": "W9VYUINbdbex"
      }
    },
    {
      "cell_type": "code",
      "source": [
        "class Vehicle:\n",
        "    def start_engine(self):\n",
        "        return \"Vehicle engine starting...\"\n",
        "\n",
        "class Car(Vehicle):\n",
        "    # Overriding the parent class method\n",
        "    def start_engine(self):\n",
        "        return \"Car engine starting with a roar!\"\n",
        "\n",
        "# Example usage:\n",
        "vehicle = Vehicle()\n",
        "car = Car()\n",
        "\n",
        "print(vehicle.start_engine())  # Output from parent class method\n",
        "print(car.start_engine())      # Output from overridden child class method\n"
      ],
      "metadata": {
        "colab": {
          "base_uri": "https://localhost:8080/"
        },
        "id": "cMAhDXGfdWUs",
        "outputId": "c384a418-e069-46c4-cf44-c03707cfa00f"
      },
      "execution_count": 5,
      "outputs": [
        {
          "output_type": "stream",
          "name": "stdout",
          "text": [
            "Vehicle engine starting...\n",
            "Car engine starting with a roar!\n"
          ]
        }
      ]
    }
  ]
}