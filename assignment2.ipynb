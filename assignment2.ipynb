{
 "cells": [
  {
   "cell_type": "markdown",
   "id": "bcf3a92c-be97-42d9-8c9b-ca8c25e627d1",
   "metadata": {},
   "source": [
    "## Q1. How do you comment code in Python? What are the different types of comments?"
   ]
  },
  {
   "cell_type": "markdown",
   "id": "343b5505-623c-495d-b96e-bee4f5bd8b87",
   "metadata": {},
   "source": [
    "In Python, you can add comments using the # symbol for single-line comments. For multi-line comments, you can use triple-quotes (''' or \"\"\")."
   ]
  },
  {
   "cell_type": "code",
   "execution_count": 1,
   "id": "856e6438-c35c-41d6-917b-15f7f2d0b35a",
   "metadata": {},
   "outputs": [
    {
     "data": {
      "text/plain": [
       "'\\nThis is a\\nmulti-line\\ncomment\\n'"
      ]
     },
     "execution_count": 1,
     "metadata": {},
     "output_type": "execute_result"
    }
   ],
   "source": [
    "# This is a single-line comment\n",
    "\n",
    "'''\n",
    "This is a\n",
    "multi-line\n",
    "comment\n",
    "'''"
   ]
  },
  {
   "cell_type": "markdown",
   "id": "784c8dbe-531d-4e0d-8691-d9d95ff6f133",
   "metadata": {},
   "source": [
    "## Q2. What are variables in Python? How do you declare and assign values to variables?"
   ]
  },
  {
   "cell_type": "markdown",
   "id": "052b97a5-0012-43eb-9366-fb4a7ccc604f",
   "metadata": {},
   "source": [
    "In Python, a variable is a name that refers to a value. You can declare and assign values to variables in the following way:"
   ]
  },
  {
   "cell_type": "code",
   "execution_count": 2,
   "id": "7c447941-79ec-41b2-a4eb-0dd8eff24e63",
   "metadata": {},
   "outputs": [],
   "source": [
    "variable_name = 10\n",
    "a, b, c = 1, 2, 3"
   ]
  },
  {
   "cell_type": "markdown",
   "id": "1deb0246-b83c-4dd9-aa82-299306bca721",
   "metadata": {},
   "source": [
    "## Q3. How do you convert one data type to another in Python?"
   ]
  },
  {
   "cell_type": "markdown",
   "id": "7b6e183f-375a-4d6e-8b12-b12249b4b1ec",
   "metadata": {},
   "source": [
    "You can use type conversion functions to convert one data type to another. Some common conversion functions include:\n",
    "\n",
    "int(): Converts to an integer.\n",
    "float(): Converts to a floating-point number.\n",
    "str(): Converts to a string.\n",
    "list(): Converts to a list.\n",
    "tuple(): Converts to a tuple."
   ]
  },
  {
   "cell_type": "code",
   "execution_count": 5,
   "id": "afa9736b-3345-4759-930e-2a81242b3a25",
   "metadata": {},
   "outputs": [
    {
     "name": "stdout",
     "output_type": "stream",
     "text": [
      "123\n"
     ]
    },
    {
     "data": {
      "text/plain": [
       "int"
      ]
     },
     "execution_count": 5,
     "metadata": {},
     "output_type": "execute_result"
    }
   ],
   "source": [
    "string_number = \"123\"\n",
    "integer_number = int(string_number)\n",
    "print(integer_number)\n",
    "type(integer_number)"
   ]
  },
  {
   "cell_type": "markdown",
   "id": "474c83c0-59ce-41a8-8a56-e87e04187e13",
   "metadata": {},
   "source": [
    "## Q4. How do you write and execute a Python script from the command line?"
   ]
  },
  {
   "cell_type": "markdown",
   "id": "a009c2a6-51a6-4b57-906b-5cbdcc5f70e6",
   "metadata": {},
   "source": [
    "To write a Python script, create a text file with a .py extension (e.g., script.py). Write your Python code in this file.\n",
    "To execute it from the command line, navigate to the directory containing the script and run \"python script.py\"\n"
   ]
  },
  {
   "cell_type": "markdown",
   "id": "da1c200f-e00b-448f-b257-fd0991d2cf30",
   "metadata": {},
   "source": [
    "## Q5. Given a list my_list = [1, 2, 3, 4, 5], write the code to slice the list and obtain the sub-list [2, 3]."
   ]
  },
  {
   "cell_type": "code",
   "execution_count": 6,
   "id": "f683dc57-055f-432c-b473-232a316ae8fc",
   "metadata": {},
   "outputs": [
    {
     "name": "stdout",
     "output_type": "stream",
     "text": [
      "[2, 3]\n"
     ]
    }
   ],
   "source": [
    "my_list = [1, 2, 3, 4, 5]\n",
    "sub_list = my_list[1:3]\n",
    "print(sub_list)\n"
   ]
  },
  {
   "cell_type": "markdown",
   "id": "779ee285-0c7f-431f-84d6-430b973416c9",
   "metadata": {},
   "source": [
    "## Q6. What is a complex number in mathematics, and how is it represented in Python?"
   ]
  },
  {
   "cell_type": "markdown",
   "id": "6e569c30-634d-4adc-990d-6b1665d499bb",
   "metadata": {},
   "source": [
    "A complex number is a number that comprises a real part and an imaginary part. In Python, complex numbers are represented using the j or J suffix."
   ]
  },
  {
   "cell_type": "code",
   "execution_count": 7,
   "id": "fe265a4d-d6d1-4c67-a6d0-585abb5dc4d4",
   "metadata": {},
   "outputs": [
    {
     "name": "stdout",
     "output_type": "stream",
     "text": [
      "(3+4j)\n"
     ]
    }
   ],
   "source": [
    "complex_num=3+4j\n",
    "print(complex_num)"
   ]
  },
  {
   "cell_type": "markdown",
   "id": "04e0d737-3b26-4825-a542-9575e90745bb",
   "metadata": {},
   "source": [
    "## Q7. What is the correct way to declare a variable named age and assign the value 25 to it?"
   ]
  },
  {
   "cell_type": "code",
   "execution_count": 8,
   "id": "a3af4835-24ba-4596-bdcd-f90949655c43",
   "metadata": {},
   "outputs": [],
   "source": [
    "age=25"
   ]
  },
  {
   "cell_type": "markdown",
   "id": "81326950-1b5f-4061-8efd-12d5b8d1c20f",
   "metadata": {},
   "source": [
    "## Q8. Declare a variable named price and assign the value 9.99 to it. What data type does this variable belong to?"
   ]
  },
  {
   "cell_type": "code",
   "execution_count": 9,
   "id": "db7d688a-1831-4283-8db9-587a4e608c72",
   "metadata": {},
   "outputs": [
    {
     "data": {
      "text/plain": [
       "float"
      ]
     },
     "execution_count": 9,
     "metadata": {},
     "output_type": "execute_result"
    }
   ],
   "source": [
    "price = 9.99\n",
    "type(price)"
   ]
  },
  {
   "cell_type": "markdown",
   "id": "e8cd64b6-8300-4467-9cf1-e6d20cc09cec",
   "metadata": {},
   "source": [
    "## Q9. Create a variable named name and assign your full name to it as a string. How would you print the value of this variable?"
   ]
  },
  {
   "cell_type": "code",
   "execution_count": 10,
   "id": "9129090d-2ee3-436e-9e9f-144cddcd2135",
   "metadata": {},
   "outputs": [
    {
     "name": "stdout",
     "output_type": "stream",
     "text": [
      "Mohammed Zayed\n"
     ]
    }
   ],
   "source": [
    "name='Mohammed Zayed'\n",
    "print(name)"
   ]
  },
  {
   "cell_type": "markdown",
   "id": "36e1e344-fc52-4dc5-99c0-1760a5e51e1d",
   "metadata": {},
   "source": [
    "## Q10. Given the string \"Hello, World!\", extract the substring \"World\"."
   ]
  },
  {
   "cell_type": "code",
   "execution_count": 11,
   "id": "88dac167-d246-4f7c-bd26-95fa4ad7476a",
   "metadata": {},
   "outputs": [
    {
     "name": "stdout",
     "output_type": "stream",
     "text": [
      "World!\n"
     ]
    }
   ],
   "source": [
    "my_string=\"Hello, World!\"\n",
    "substring=my_string[7:]\n",
    "print(substring)"
   ]
  },
  {
   "cell_type": "markdown",
   "id": "4807c821-e7e3-4d2a-ac5c-3ebd3f7257a8",
   "metadata": {},
   "source": [
    "## Q11. Create a variable named \"is_student\" and assign it a boolean value indicating whether you are currently a student or not."
   ]
  },
  {
   "cell_type": "code",
   "execution_count": 12,
   "id": "4210b1fe-6f6a-46d9-b470-79ba28cefee7",
   "metadata": {},
   "outputs": [],
   "source": [
    "is_student = True"
   ]
  }
 ],
 "metadata": {
  "kernelspec": {
   "display_name": "Python 3 (ipykernel)",
   "language": "python",
   "name": "python3"
  },
  "language_info": {
   "codemirror_mode": {
    "name": "ipython",
    "version": 3
   },
   "file_extension": ".py",
   "mimetype": "text/x-python",
   "name": "python",
   "nbconvert_exporter": "python",
   "pygments_lexer": "ipython3",
   "version": "3.11.4"
  }
 },
 "nbformat": 4,
 "nbformat_minor": 5
}
