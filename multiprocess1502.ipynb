{
  "nbformat": 4,
  "nbformat_minor": 0,
  "metadata": {
    "colab": {
      "provenance": [],
      "authorship_tag": "ABX9TyO4TWAjn+ZLbOwkesherXCd",
      "include_colab_link": true
    },
    "kernelspec": {
      "name": "python3",
      "display_name": "Python 3"
    },
    "language_info": {
      "name": "python"
    }
  },
  "cells": [
    {
      "cell_type": "markdown",
      "metadata": {
        "id": "view-in-github",
        "colab_type": "text"
      },
      "source": [
        "<a href=\"https://colab.research.google.com/github/Zayed2022/Assignments/blob/main/multiprocess1502.ipynb\" target=\"_parent\"><img src=\"https://colab.research.google.com/assets/colab-badge.svg\" alt=\"Open In Colab\"/></a>"
      ]
    },
    {
      "cell_type": "markdown",
      "source": [
        "Q1. What is multiprocessing in Python? Why is it useful?"
      ],
      "metadata": {
        "id": "PstdpXFe50cm"
      }
    },
    {
      "cell_type": "markdown",
      "source": [
        "Multiprocessing in Python is a module that allows the execution of multiple processes concurrently by leveraging multiple CPU cores. It creates separate memory spaces for each process, allowing better utilization of system resources in CPU-bound tasks like heavy computations. This makes it possible to speed up tasks by dividing them across multiple processors. <br> It is useful because Python's Global Interpreter Lock (GIL) limits the performance of multithreading in CPU-bound tasks, but with multiprocessing, separate memory space for each process avoids GIL, thus improving performance in such tasks. <br>\n"
      ],
      "metadata": {
        "id": "RA5y3RZz56D5"
      }
    },
    {
      "cell_type": "markdown",
      "source": [
        "Q2. What are the differences between multiprocessing and multithreading?\n",
        "ans:<br>\n",
        "Execution:\n",
        "Multiprocessing runs multiple processes in parallel, each with its own memory space.\n",
        "Multithreading runs multiple threads within the same process, sharing the same memory space. <br>\n",
        "Performance:\n",
        "Multiprocessing is better suited for CPU-bound tasks, utilizing multiple CPU cores.\n",
        "Multithreading is better for I/O-bound tasks since threads share memory and have lower overhead. <br>\n",
        "Global Interpreter Lock (GIL):\n",
        "In multiprocessing, each process has its own GIL, avoiding contention.\n",
        "In multithreading, all threads share the same GIL, which can limit parallel execution in CPU-bound tasks. <br>\n",
        "Memory Usage:\n",
        "Multiprocessing uses more memory as each process has its own memory space.\n",
        "Multithreading uses less memory since threads share the same memory space. <br>\n"
      ],
      "metadata": {
        "id": "nc7VbiPz59wz"
      }
    },
    {
      "cell_type": "markdown",
      "source": [
        "Q3. Write a Python code to create a process using the multiprocessing module."
      ],
      "metadata": {
        "id": "s82bsBW26Kfn"
      }
    },
    {
      "cell_type": "code",
      "source": [
        "import multiprocessing\n",
        "\n",
        "def worker():\n",
        "    print(\"Worker process is running\")\n",
        "\n",
        "if __name__ == '__main__':\n",
        "    process = multiprocessing.Process(target=worker)\n",
        "    process.start()\n",
        "    process.join()\n"
      ],
      "metadata": {
        "colab": {
          "base_uri": "https://localhost:8080/"
        },
        "id": "x-0Tu7Nt6JXn",
        "outputId": "98a216a4-4de0-44cb-8ecf-22abd71082fc"
      },
      "execution_count": 1,
      "outputs": [
        {
          "output_type": "stream",
          "name": "stdout",
          "text": [
            "Worker process is running\n"
          ]
        }
      ]
    },
    {
      "cell_type": "markdown",
      "source": [
        "Q4. What is a multiprocessing pool in Python? Why is it used?<br>\n",
        "A multiprocessing pool is a collection of worker processes that can be used to execute tasks concurrently. It provides methods like map(), apply(), and starmap() to distribute tasks among multiple worker processes. <br> It is used to efficiently manage and parallelize tasks by reusing the pool of processes, thus avoiding the overhead of creating and destroying processes repeatedly. This is particularly useful when performing tasks like map-reduce or parallel computation. <br>"
      ],
      "metadata": {
        "id": "GoKv5b1d6Toj"
      }
    },
    {
      "cell_type": "markdown",
      "source": [
        "Q5. How can we create a pool of worker processes in Python using the multiprocessing module?"
      ],
      "metadata": {
        "id": "dIKCmSdL6aQK"
      }
    },
    {
      "cell_type": "code",
      "source": [
        "import multiprocessing\n",
        "\n",
        "def square(n):\n",
        "    return n * n\n",
        "\n",
        "if __name__ == '__main__':\n",
        "    with multiprocessing.Pool(4) as pool:\n",
        "        numbers = [1, 2, 3, 4, 5]\n",
        "        results = pool.map(square, numbers)\n",
        "        print(results)\n"
      ],
      "metadata": {
        "colab": {
          "base_uri": "https://localhost:8080/"
        },
        "id": "UYEkFwbK6P-J",
        "outputId": "1a62b56b-6d36-4052-9595-1eb52ee46b9c"
      },
      "execution_count": 2,
      "outputs": [
        {
          "output_type": "stream",
          "name": "stdout",
          "text": [
            "[1, 4, 9, 16, 25]\n"
          ]
        }
      ]
    },
    {
      "cell_type": "markdown",
      "source": [
        "Q6. Write a Python program to create 4 processes, each process should print a different number using the multiprocessing module in Python."
      ],
      "metadata": {
        "id": "_S44Esbv6i1N"
      }
    },
    {
      "cell_type": "code",
      "source": [
        "import multiprocessing\n",
        "\n",
        "def print_number(number):\n",
        "    print(f\"Process prints: {number}\")\n",
        "\n",
        "if __name__ == '__main__':\n",
        "    processes = []\n",
        "    numbers = [1, 2, 3, 4]\n",
        "\n",
        "    for number in numbers:\n",
        "        process = multiprocessing.Process(target=print_number, args=(number,))\n",
        "        processes.append(process)\n",
        "        process.start()\n",
        "\n",
        "    for process in processes:\n",
        "        process.join()\n"
      ],
      "metadata": {
        "colab": {
          "base_uri": "https://localhost:8080/"
        },
        "id": "m4tfgbC86fVA",
        "outputId": "62d72ca9-eea6-48ee-9705-42adfa9ca2f1"
      },
      "execution_count": 3,
      "outputs": [
        {
          "output_type": "stream",
          "name": "stdout",
          "text": [
            "Process prints: 1Process prints: 2\n",
            "\n",
            "Process prints: 3Process prints: 4\n",
            "\n"
          ]
        }
      ]
    }
  ]
}