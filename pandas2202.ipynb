{
  "nbformat": 4,
  "nbformat_minor": 0,
  "metadata": {
    "colab": {
      "provenance": [],
      "authorship_tag": "ABX9TyNMLi7D8wwAhj4ypoBdCMX8",
      "include_colab_link": true
    },
    "kernelspec": {
      "name": "python3",
      "display_name": "Python 3"
    },
    "language_info": {
      "name": "python"
    }
  },
  "cells": [
    {
      "cell_type": "markdown",
      "metadata": {
        "id": "view-in-github",
        "colab_type": "text"
      },
      "source": [
        "<a href=\"https://colab.research.google.com/github/Zayed2022/Assignments/blob/main/pandas2202.ipynb\" target=\"_parent\"><img src=\"https://colab.research.google.com/assets/colab-badge.svg\" alt=\"Open In Colab\"/></a>"
      ]
    },
    {
      "cell_type": "markdown",
      "source": [
        "Q1. Create a Pandas Series that contains the following data: 4, 8, 15, 16, 23, and 42. Then, print the series."
      ],
      "metadata": {
        "id": "fbFfKk-EtBDQ"
      }
    },
    {
      "cell_type": "code",
      "source": [
        "import pandas as pd\n",
        "\n",
        "# Create a Pandas Series\n",
        "data = [4, 8, 15, 16, 23, 42]\n",
        "series = pd.Series(data)\n",
        "\n",
        "# Print the series\n",
        "print(series)\n"
      ],
      "metadata": {
        "colab": {
          "base_uri": "https://localhost:8080/"
        },
        "id": "kVrUciOEtM4g",
        "outputId": "993744df-0507-4f88-9a62-ee61cfd6c1bf"
      },
      "execution_count": 1,
      "outputs": [
        {
          "output_type": "stream",
          "name": "stdout",
          "text": [
            "0     4\n",
            "1     8\n",
            "2    15\n",
            "3    16\n",
            "4    23\n",
            "5    42\n",
            "dtype: int64\n"
          ]
        }
      ]
    },
    {
      "cell_type": "markdown",
      "source": [
        "Q2. Create a variable of list type containing 10 elements in it, and apply pandas.Series function on the variable and print it."
      ],
      "metadata": {
        "id": "Sdzptk0atT_p"
      }
    },
    {
      "cell_type": "code",
      "source": [
        "# Create a list of 10 elements\n",
        "my_list = [1, 2, 3, 4, 5, 6, 7, 8, 9, 10]\n",
        "\n",
        "# Convert the list to a Pandas Series\n",
        "list_series = pd.Series(my_list)\n",
        "\n",
        "# Print the Series\n",
        "print(list_series)\n"
      ],
      "metadata": {
        "colab": {
          "base_uri": "https://localhost:8080/"
        },
        "id": "QdVLV5A4tP2Q",
        "outputId": "2b350272-ace8-4edb-e81c-19fc8802fd7d"
      },
      "execution_count": 2,
      "outputs": [
        {
          "output_type": "stream",
          "name": "stdout",
          "text": [
            "0     1\n",
            "1     2\n",
            "2     3\n",
            "3     4\n",
            "4     5\n",
            "5     6\n",
            "6     7\n",
            "7     8\n",
            "8     9\n",
            "9    10\n",
            "dtype: int64\n"
          ]
        }
      ]
    },
    {
      "cell_type": "markdown",
      "source": [
        "Q3. Create a Pandas DataFrame that contains the following data:"
      ],
      "metadata": {
        "id": "ghbB2lIYtZzq"
      }
    },
    {
      "cell_type": "code",
      "source": [
        "# Create a DataFrame using a dictionary\n",
        "data = {\n",
        "    'Name': ['John', 'Jane', 'Alice', 'Bob'],\n",
        "    'Age': [28, 24, 35, 42],\n",
        "    'City': ['New York', 'Paris', 'Berlin', 'Tokyo']\n",
        "}\n",
        "\n",
        "df = pd.DataFrame(data)\n",
        "\n",
        "# Print the DataFrame\n",
        "print(df)\n"
      ],
      "metadata": {
        "colab": {
          "base_uri": "https://localhost:8080/"
        },
        "id": "MlrFTRc4tXQh",
        "outputId": "9494ef9a-33be-48a9-aa75-8f11d8b15983"
      },
      "execution_count": 3,
      "outputs": [
        {
          "output_type": "stream",
          "name": "stdout",
          "text": [
            "    Name  Age      City\n",
            "0   John   28  New York\n",
            "1   Jane   24     Paris\n",
            "2  Alice   35    Berlin\n",
            "3    Bob   42     Tokyo\n"
          ]
        }
      ]
    },
    {
      "cell_type": "markdown",
      "source": [
        "Q4. What is a ‘DataFrame’ in pandas and how is it different from pandas.Series? Explain with an example.\n",
        "<br>A DataFrame in pandas is a 2-dimensional labeled data structure, similar to a table with rows and columns. It can hold multiple data types (e.g., integers, floats, strings).\n",
        "A Series is a 1-dimensional labeled array capable of holding a single data type."
      ],
      "metadata": {
        "id": "-V4XP7G0teFf"
      }
    },
    {
      "cell_type": "code",
      "source": [
        "# Series\n",
        "series = pd.Series([10, 20, 30, 40])\n",
        "print(\"Series:\")\n",
        "print(series)\n",
        "\n",
        "# DataFrame\n",
        "data = {'Col1': [10, 20, 30], 'Col2': [40, 50, 60]}\n",
        "df = pd.DataFrame(data)\n",
        "print(\"\\nDataFrame:\")\n",
        "print(df)\n"
      ],
      "metadata": {
        "colab": {
          "base_uri": "https://localhost:8080/"
        },
        "id": "B7EACMamtbv2",
        "outputId": "95908bd1-f48d-4e91-f9d9-25282a846b61"
      },
      "execution_count": 4,
      "outputs": [
        {
          "output_type": "stream",
          "name": "stdout",
          "text": [
            "Series:\n",
            "0    10\n",
            "1    20\n",
            "2    30\n",
            "3    40\n",
            "dtype: int64\n",
            "\n",
            "DataFrame:\n",
            "   Col1  Col2\n",
            "0    10    40\n",
            "1    20    50\n",
            "2    30    60\n"
          ]
        }
      ]
    },
    {
      "cell_type": "markdown",
      "source": [
        "Q5. What are some common functions you can use to manipulate data in a Pandas DataFrame? Can you give an example of when you might use one of these functions?<br>\n",
        "ans:<br>Some common functions to manipulate data in Pandas DataFrames include:\n",
        "\n",
        "<br>df.head(): To view the first few rows of the DataFrame.\n",
        "<br>df.describe(): To get summary statistics.\n",
        "<br>df.drop(): To remove rows or columns.\n",
        "df.fillna(): To fill missing values.\n",
        "df.groupby(): To group data for aggregation."
      ],
      "metadata": {
        "id": "_Xs6ERCEtnXh"
      }
    },
    {
      "cell_type": "code",
      "source": [
        "# Filling missing values\n",
        "data = {'A': [1, 2, None, 4], 'B': [5, None, 7, 8]}\n",
        "df = pd.DataFrame(data)\n",
        "\n",
        "# Fill missing values with a default value\n",
        "df_filled = df.fillna(0)\n",
        "print(df_filled)\n"
      ],
      "metadata": {
        "colab": {
          "base_uri": "https://localhost:8080/"
        },
        "id": "Zsc4AKHutkU-",
        "outputId": "96b9962e-c727-4702-e0c8-f3bf28abc82f"
      },
      "execution_count": 5,
      "outputs": [
        {
          "output_type": "stream",
          "name": "stdout",
          "text": [
            "     A    B\n",
            "0  1.0  5.0\n",
            "1  2.0  0.0\n",
            "2  0.0  7.0\n",
            "3  4.0  8.0\n"
          ]
        }
      ]
    },
    {
      "cell_type": "markdown",
      "source": [
        "Q6. Which of the following is mutable in nature: Series, DataFrame, Panel?\n",
        "<br>Both Series and DataFrame are mutable in nature. You can change their content after they are created.\n",
        "\n",
        "<br>Panel has been deprecated in the latest versions of Pandas, so it is no longer commonly used."
      ],
      "metadata": {
        "id": "TmqoM52lt7A9"
      }
    },
    {
      "cell_type": "markdown",
      "source": [
        "Q7. Create a DataFrame using multiple Series. Explain with an example."
      ],
      "metadata": {
        "id": "csF6MR7buA9a"
      }
    },
    {
      "cell_type": "code",
      "source": [
        "# Create multiple Series\n",
        "series1 = pd.Series([1, 2, 3, 4], name='A')\n",
        "series2 = pd.Series([10, 20, 30, 40], name='B')\n",
        "series3 = pd.Series([100, 200, 300, 400], name='C')\n",
        "\n",
        "# Create a DataFrame using these Series\n",
        "df = pd.DataFrame({series1.name: series1, series2.name: series2, series3.name: series3})\n",
        "\n",
        "# Print the DataFrame\n",
        "print(df)\n"
      ],
      "metadata": {
        "colab": {
          "base_uri": "https://localhost:8080/"
        },
        "id": "K89lNJ72t4I4",
        "outputId": "95a54d63-cba4-4c44-e225-59fa11e50d09"
      },
      "execution_count": 6,
      "outputs": [
        {
          "output_type": "stream",
          "name": "stdout",
          "text": [
            "   A   B    C\n",
            "0  1  10  100\n",
            "1  2  20  200\n",
            "2  3  30  300\n",
            "3  4  40  400\n"
          ]
        }
      ]
    }
  ]
}