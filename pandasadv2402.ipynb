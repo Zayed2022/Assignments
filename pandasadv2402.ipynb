{
  "nbformat": 4,
  "nbformat_minor": 0,
  "metadata": {
    "colab": {
      "provenance": [],
      "authorship_tag": "ABX9TyMzCJ4fNCy9XcwULU9ht5A3",
      "include_colab_link": true
    },
    "kernelspec": {
      "name": "python3",
      "display_name": "Python 3"
    },
    "language_info": {
      "name": "python"
    }
  },
  "cells": [
    {
      "cell_type": "markdown",
      "metadata": {
        "id": "view-in-github",
        "colab_type": "text"
      },
      "source": [
        "<a href=\"https://colab.research.google.com/github/Zayed2022/Assignments/blob/main/pandasadv2402.ipynb\" target=\"_parent\"><img src=\"https://colab.research.google.com/assets/colab-badge.svg\" alt=\"Open In Colab\"/></a>"
      ]
    },
    {
      "cell_type": "markdown",
      "source": [
        "Q1. List any five functions of the pandas library with execution."
      ],
      "metadata": {
        "id": "6FZw0mycuo18"
      }
    },
    {
      "cell_type": "code",
      "execution_count": 2,
      "metadata": {
        "colab": {
          "base_uri": "https://localhost:8080/"
        },
        "id": "ngB2AUGduZGA",
        "outputId": "e4f44883-721a-427d-a347-fd9c3812e2ac"
      },
      "outputs": [
        {
          "output_type": "stream",
          "name": "stdout",
          "text": [
            "   A   B\n",
            "0  1  10\n",
            "1  2  20\n",
            "2  3  30\n",
            "              A          B\n",
            "count  5.000000   5.000000\n",
            "mean   3.000000  30.000000\n",
            "std    1.581139  15.811388\n",
            "min    1.000000  10.000000\n",
            "25%    2.000000  20.000000\n",
            "50%    3.000000  30.000000\n",
            "75%    4.000000  40.000000\n",
            "max    5.000000  50.000000\n",
            "     A    B\n",
            "0  1.0  4.0\n",
            "   A   B\n",
            "0  1  10\n",
            "1  2  20\n",
            "2  3  30\n",
            "3  4  40\n",
            "4  5  50\n",
            "    B\n",
            "A    \n",
            "1  10\n",
            "2  20\n",
            "3  30\n",
            "4  40\n",
            "5  50\n"
          ]
        }
      ],
      "source": [
        "#head(): Displays the first few rows of the DataFrame.\n",
        "import pandas as pd\n",
        "data = {'A': [1, 2, 3, 4, 5], 'B': [10, 20, 30, 40, 50]}\n",
        "df = pd.DataFrame(data)\n",
        "print(df.head(3))  # Shows first 3 rows\n",
        "\n",
        "#describe(): Generates summary statistics of numerical columns.\n",
        "print(df.describe())\n",
        "\n",
        "#dropna(): Removes missing values (NaN) from the DataFrame.\n",
        "df_with_nan = pd.DataFrame({'A': [1, None, 3], 'B': [4, 5, None]})\n",
        "df_clean = df_with_nan.dropna()\n",
        "print(df_clean)\n",
        "\n",
        "#sort_values(): Sorts the DataFrame based on a column.\n",
        "sorted_df = df.sort_values('B')\n",
        "print(sorted_df)\n",
        "\n",
        "#groupby(): Groups rows based on a column's values and applies an aggregate function.\n",
        "grouped = df.groupby('A').sum()\n",
        "print(grouped)"
      ]
    },
    {
      "cell_type": "markdown",
      "source": [
        "Q2. Re-index the DataFrame df with a new index that starts from 1 and increments by 2 for each row."
      ],
      "metadata": {
        "id": "1eaViLtWvPOc"
      }
    },
    {
      "cell_type": "code",
      "source": [
        "def reindex_dataframe(df):\n",
        "    new_index = range(1, 2 * len(df) + 1, 2)\n",
        "    df.index = new_index\n",
        "    return df\n",
        "\n",
        "# Example\n",
        "data = {'A': [1, 2, 3], 'B': [10, 20, 30], 'C': [100, 200, 300]}\n",
        "df = pd.DataFrame(data)\n",
        "df = reindex_dataframe(df)\n",
        "print(df)\n"
      ],
      "metadata": {
        "colab": {
          "base_uri": "https://localhost:8080/"
        },
        "id": "hG5-q1PevDam",
        "outputId": "6c61fb6c-5ae5-4710-c0d3-d36815a6af04"
      },
      "execution_count": 3,
      "outputs": [
        {
          "output_type": "stream",
          "name": "stdout",
          "text": [
            "   A   B    C\n",
            "1  1  10  100\n",
            "3  2  20  200\n",
            "5  3  30  300\n"
          ]
        }
      ]
    },
    {
      "cell_type": "markdown",
      "source": [
        "Q3. You have a Pandas DataFrame df with a column named 'Values'. Write a Python function that\n",
        "iterates over the DataFrame and calculates the sum of the first three values in the 'Values' column. The\n",
        "function should print the sum to the console."
      ],
      "metadata": {
        "id": "WfyFGyMhvTse"
      }
    },
    {
      "cell_type": "code",
      "source": [
        "def sum_first_three(df):\n",
        "    first_three_sum = df['Values'].head(3).sum()\n",
        "    print(f\"The sum of the first three values is: {first_three_sum}\")\n",
        "\n",
        "# Example\n",
        "data = {'Values': [10, 20, 30, 40, 50]}\n",
        "df = pd.DataFrame(data)\n",
        "sum_first_three(df)\n"
      ],
      "metadata": {
        "colab": {
          "base_uri": "https://localhost:8080/"
        },
        "id": "d3Q8pzidvScr",
        "outputId": "55b7ef9e-0f4b-4660-8082-5428befda392"
      },
      "execution_count": 4,
      "outputs": [
        {
          "output_type": "stream",
          "name": "stdout",
          "text": [
            "The sum of the first three values is: 60\n"
          ]
        }
      ]
    },
    {
      "cell_type": "markdown",
      "source": [
        "Q4. Write a function to create a new column 'Word_Count' that contains the number of words in each row of the 'Text' column."
      ],
      "metadata": {
        "id": "ZlTJ8zEkvdCX"
      }
    },
    {
      "cell_type": "code",
      "source": [
        "def add_word_count_column(df):\n",
        "    df['Word_Count'] = df['Text'].apply(lambda x: len(str(x).split()))\n",
        "    return df\n",
        "\n",
        "# Example\n",
        "data = {'Text': ['Hello world', 'Pandas is fun', 'Data Science']}\n",
        "df = pd.DataFrame(data)\n",
        "df = add_word_count_column(df)\n",
        "print(df)\n"
      ],
      "metadata": {
        "colab": {
          "base_uri": "https://localhost:8080/"
        },
        "id": "Trigonq_vaSN",
        "outputId": "999c3b3a-bcda-4c16-fc56-ddd31f62b65b"
      },
      "execution_count": 5,
      "outputs": [
        {
          "output_type": "stream",
          "name": "stdout",
          "text": [
            "            Text  Word_Count\n",
            "0    Hello world           2\n",
            "1  Pandas is fun           3\n",
            "2   Data Science           2\n"
          ]
        }
      ]
    },
    {
      "cell_type": "markdown",
      "source": [
        "Q5. How are DataFrame.size and DataFrame.shape different?\n",
        "<br>DataFrame.size: Returns the total number of elements in the DataFrame (rows × columns).\n",
        "<br>DataFrame.shape: Returns a tuple representing the dimensions of the <br>DataFrame (number of rows, number of columns).\n"
      ],
      "metadata": {
        "id": "2Ei_U9Yuvh8T"
      }
    },
    {
      "cell_type": "code",
      "source": [
        "df = pd.DataFrame({'A': [1, 2, 3], 'B': [4, 5, 6]})\n",
        "print(\"Size of DataFrame:\", df.size)  # Output: 6 (3 rows * 2 columns)\n",
        "print(\"Shape of DataFrame:\", df.shape)  # Output: (3, 2)\n"
      ],
      "metadata": {
        "colab": {
          "base_uri": "https://localhost:8080/"
        },
        "id": "-Gi6AKkPvfIn",
        "outputId": "52b18f23-64ec-4209-cbff-1dc7f7614110"
      },
      "execution_count": 6,
      "outputs": [
        {
          "output_type": "stream",
          "name": "stdout",
          "text": [
            "Size of DataFrame: 6\n",
            "Shape of DataFrame: (3, 2)\n"
          ]
        }
      ]
    },
    {
      "cell_type": "markdown",
      "source": [
        "Q6. Which function of pandas do we use to read an Excel file?"
      ],
      "metadata": {
        "id": "em3nEItvvrPa"
      }
    },
    {
      "cell_type": "markdown",
      "source": [
        "pd.read_excel() is used to read data from an Excel file."
      ],
      "metadata": {
        "id": "Cd7XBNz2vv0t"
      }
    },
    {
      "cell_type": "markdown",
      "source": [
        "Q7. Write a function that creates a new column 'Username' in df that contains only the username part of each email address."
      ],
      "metadata": {
        "id": "LAbdILOjvw1t"
      }
    },
    {
      "cell_type": "code",
      "source": [
        "def extract_username(df):\n",
        "    df['Username'] = df['Email'].apply(lambda x: x.split('@')[0])\n",
        "    return df\n",
        "\n",
        "# Example\n",
        "data = {'Email': ['john.doe@example.com', 'jane.doe@gmail.com']}\n",
        "df = pd.DataFrame(data)\n",
        "df = extract_username(df)\n",
        "print(df)\n"
      ],
      "metadata": {
        "colab": {
          "base_uri": "https://localhost:8080/"
        },
        "id": "BiFjJACBvo5R",
        "outputId": "7aa7902e-fd72-4fe0-b97e-9c23742eb8b3"
      },
      "execution_count": 7,
      "outputs": [
        {
          "output_type": "stream",
          "name": "stdout",
          "text": [
            "                  Email  Username\n",
            "0  john.doe@example.com  john.doe\n",
            "1    jane.doe@gmail.com  jane.doe\n"
          ]
        }
      ]
    }
  ]
}