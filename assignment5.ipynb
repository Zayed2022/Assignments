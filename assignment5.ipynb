{
 "cells": [
  {
   "cell_type": "markdown",
   "id": "0d5330cd-3fb0-438d-9607-9f2b45561a78",
   "metadata": {},
   "source": [
    "## Q1. Explain Class and Object with respect to Object-Oriented Programming. Give a suitable example."
   ]
  },
  {
   "cell_type": "markdown",
   "id": "9d8a3b32-7bea-424b-866e-1df73b379c5c",
   "metadata": {},
   "source": [
    "Class: A class in Object-Oriented Programming (OOP) is a blueprint or a template for creating objects. It defines a set of attributes and methods that the objects created from the class will have. It serves as a design for creating instances, also known as objects.\n",
    "\n",
    "Object: An object is an instance of a class. It is a real-world entity that has attributes (characteristics) and behaviors (actions). Objects are created from classes and represent specific instances of those classes."
   ]
  },
  {
   "cell_type": "code",
   "execution_count": 1,
   "id": "806ea3cd-bf8d-4267-8fce-e9731fde0aa4",
   "metadata": {},
   "outputs": [
    {
     "name": "stdout",
     "output_type": "stream",
     "text": [
      "Toyota Camry\n",
      "Honda Accord\n"
     ]
    }
   ],
   "source": [
    "class Car:\n",
    "    def __init__(self, brand, model):\n",
    "        self.brand = brand\n",
    "        self.model = model\n",
    "\n",
    "    def display_info(self):\n",
    "        print(f\"{self.brand} {self.model}\")\n",
    "car1 = Car(\"Toyota\", \"Camry\")\n",
    "car2 = Car(\"Honda\", \"Accord\")\n",
    "car1.display_info()  \n",
    "car2.display_info() "
   ]
  },
  {
   "cell_type": "markdown",
   "id": "133d6ab3-f936-4b6b-b103-5921638e3f8a",
   "metadata": {},
   "source": [
    "## Q2. Name the four pillars of OOPs."
   ]
  },
  {
   "cell_type": "markdown",
   "id": "bfbc375b-c665-4e43-a920-65a6aff00cf5",
   "metadata": {},
   "source": [
    "Encapsulation: The bundling of data (attributes) and methods that operate on the data within a single unit (class).\n",
    "\n",
    "Abstraction: Hiding the complex implementation details and exposing only the essential features of an object.\n",
    "\n",
    "Inheritance: The mechanism by which a class can inherit properties and behavior from another class.\n",
    "\n",
    "Polymorphism: The ability of objects to take on multiple forms or the ability to use a single interface to represent different types of entities."
   ]
  },
  {
   "cell_type": "markdown",
   "id": "cbec1db3-3a5f-48b4-978a-e94f473421f0",
   "metadata": {},
   "source": [
    "## Q3. Explain why the __init__() function is used. Give a suitable example."
   ]
  },
  {
   "cell_type": "markdown",
   "id": "ca21acc7-20ae-47f7-a741-0f542d4a88e0",
   "metadata": {},
   "source": [
    "The __init__() function is a special method in Python classes that is automatically called when an object is created from a class. It is used to initialize the attributes of the object."
   ]
  },
  {
   "cell_type": "code",
   "execution_count": 3,
   "id": "46e82005-8629-4bc6-9850-9b6be2ba3b71",
   "metadata": {},
   "outputs": [
    {
     "name": "stdout",
     "output_type": "stream",
     "text": [
      "John\n"
     ]
    }
   ],
   "source": [
    "class Person:\n",
    "    def __init__(self, name, age):\n",
    "        self.name = name\n",
    "        self.age = age\n",
    "person1 = Person(\"John\", 25)\n",
    "print(person1.name)"
   ]
  },
  {
   "cell_type": "markdown",
   "id": "16efc0fc-52c0-4c04-8c16-258625c84cdc",
   "metadata": {},
   "source": [
    "## Q4. Why self is used in OOPs?"
   ]
  },
  {
   "cell_type": "markdown",
   "id": "9604b543-e973-43b5-9358-500b4b872645",
   "metadata": {},
   "source": [
    "In OOPs, self is a convention used to represent the instance of the class. It is the first parameter in the definition of instance methods and refers to the instance itself. It allows accessing the instance's attributes and methods within the class."
   ]
  },
  {
   "cell_type": "markdown",
   "id": "d028e35b-9a1d-4221-bd21-3d9f23b792c2",
   "metadata": {},
   "source": [
    "## Q5. What is inheritance? Give an example for each type of inheritance."
   ]
  },
  {
   "cell_type": "markdown",
   "id": "cf424b73-b93d-4ce9-aa3e-614afeb9b77a",
   "metadata": {},
   "source": [
    "Inheritance:\n",
    "Inheritance is a fundamental concept in object-oriented programming (OOP) that allows a new class (subclass or derived class) to inherit attributes and behaviors from an existing class (superclass or base class). This promotes code reuse and establishes a relationship between classes.\n",
    "\n",
    "There are different types of inheritance:"
   ]
  },
  {
   "cell_type": "markdown",
   "id": "f1235b5a-4395-4ecb-a1f3-f5dca4b37538",
   "metadata": {},
   "source": [
    "1.Single Inheritance:\n",
    "In single inheritance, a subclass inherits from only one superclass."
   ]
  },
  {
   "cell_type": "code",
   "execution_count": 4,
   "id": "88eef986-377e-4997-a436-2c635c52bf41",
   "metadata": {},
   "outputs": [
    {
     "name": "stdout",
     "output_type": "stream",
     "text": [
      "Animal speaks\n",
      "Dog barks\n"
     ]
    }
   ],
   "source": [
    "class Animal:\n",
    "    def speak(self):\n",
    "        print(\"Animal speaks\")\n",
    "class Dog(Animal):\n",
    "    def bark(self):\n",
    "        print(\"Dog barks\")\n",
    "dog = Dog()\n",
    "dog.speak() \n",
    "dog.bark()   \n"
   ]
  },
  {
   "cell_type": "markdown",
   "id": "9a040ea6-e033-4935-a3d1-c63d098c4234",
   "metadata": {},
   "source": [
    "2.Multiple Inheritance:\n",
    "Multiple inheritance occurs when a class inherits from more than one superclass."
   ]
  },
  {
   "cell_type": "code",
   "execution_count": 5,
   "id": "18a9863d-433e-41c2-826b-12fb9290235a",
   "metadata": {},
   "outputs": [
    {
     "name": "stdout",
     "output_type": "stream",
     "text": [
      "Animal speaks\n",
      "Bird flies\n"
     ]
    }
   ],
   "source": [
    "class Bird:\n",
    "    def fly(self):\n",
    "        print(\"Bird flies\")\n",
    "class Parrot(Animal, Bird):\n",
    "    pass\n",
    "parrot = Parrot()\n",
    "parrot.speak()  \n",
    "parrot.fly()  "
   ]
  },
  {
   "cell_type": "code",
   "execution_count": null,
   "id": "3c7a4e15-23b5-4a74-b29e-68af38af8d77",
   "metadata": {},
   "outputs": [],
   "source": []
  }
 ],
 "metadata": {
  "kernelspec": {
   "display_name": "Python 3 (ipykernel)",
   "language": "python",
   "name": "python3"
  },
  "language_info": {
   "codemirror_mode": {
    "name": "ipython",
    "version": 3
   },
   "file_extension": ".py",
   "mimetype": "text/x-python",
   "name": "python",
   "nbconvert_exporter": "python",
   "pygments_lexer": "ipython3",
   "version": "3.11.4"
  }
 },
 "nbformat": 4,
 "nbformat_minor": 5
}
