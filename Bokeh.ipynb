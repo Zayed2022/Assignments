{
  "nbformat": 4,
  "nbformat_minor": 0,
  "metadata": {
    "colab": {
      "provenance": [],
      "authorship_tag": "ABX9TyOpB0was59zNoE1kt9IFK0b",
      "include_colab_link": true
    },
    "kernelspec": {
      "name": "python3",
      "display_name": "Python 3"
    },
    "language_info": {
      "name": "python"
    }
  },
  "cells": [
    {
      "cell_type": "markdown",
      "metadata": {
        "id": "view-in-github",
        "colab_type": "text"
      },
      "source": [
        "<a href=\"https://colab.research.google.com/github/Zayed2022/Assignments/blob/main/Bokeh.ipynb\" target=\"_parent\"><img src=\"https://colab.research.google.com/assets/colab-badge.svg\" alt=\"Open In Colab\"/></a>"
      ]
    },
    {
      "cell_type": "markdown",
      "source": [
        "Q1. How can you create a Bokeh plot using Python code?"
      ],
      "metadata": {
        "id": "5vq-vJ2w9mcU"
      }
    },
    {
      "cell_type": "code",
      "execution_count": 3,
      "metadata": {
        "id": "0OqES5-J7Eay"
      },
      "outputs": [],
      "source": [
        "from bokeh.plotting import figure, show\n",
        "from bokeh.io import output_file\n",
        "\n",
        "# Create an output HTML file\n",
        "output_file(\"simple_bokeh_plot.html\")\n",
        "\n",
        "# Create a figure\n",
        "p = figure(title=\"Simple Bokeh Plot\", x_axis_label=\"X-axis\", y_axis_label=\"Y-axis\")\n",
        "\n",
        "# Add a line glyph to the figure\n",
        "p.line([1, 2, 3, 4, 5], [6, 7, 2, 4, 5], line_width=2)\n",
        "\n",
        "# Show the plot in the browser\n",
        "show(p)\n"
      ]
    },
    {
      "cell_type": "markdown",
      "source": [
        "Q2. What are glyphs in Bokeh, and how can you add them to a Bokeh plot? Explain with an example.\n",
        "<br>ans:<br>\n",
        "Glyphs are visual shapes that represent data on a Bokeh plot. Common glyphs include lines, circles, squares, rectangles, etc. Glyphs can be added to a plot using specific glyph methods like line(), circle(), or rect().\n",
        "\n"
      ],
      "metadata": {
        "id": "UVkXAyt1-DQ3"
      }
    },
    {
      "cell_type": "code",
      "source": [
        "from bokeh.plotting import figure, show\n",
        "from bokeh.io import output_file\n",
        "\n",
        "output_file(\"glyph_example.html\")\n",
        "\n",
        "# Create a figure\n",
        "p = figure(title=\"Bokeh Glyphs Example\", x_axis_label=\"X-axis\", y_axis_label=\"Y-axis\")\n",
        "\n",
        "# Add glyphs to the figure\n",
        "p.line([1, 2, 3, 4, 5], [6, 7, 2, 4, 5], legend_label=\"Line\", line_width=2, color=\"blue\")\n",
        "p.circle([1, 2, 3, 4, 5], [6, 7, 2, 4, 5], size=10, legend_label=\"Circles\", color=\"red\")\n",
        "\n",
        "# Show the plot in the browser\n",
        "show(p)"
      ],
      "metadata": {
        "colab": {
          "base_uri": "https://localhost:8080/"
        },
        "id": "7NJdqLsn9z-H",
        "outputId": "ba170c37-96e2-4c85-af1f-4ed0a010e360"
      },
      "execution_count": 4,
      "outputs": [
        {
          "output_type": "stream",
          "name": "stderr",
          "text": [
            "BokehDeprecationWarning: 'circle() method with size value' was deprecated in Bokeh 3.4.0 and will be removed, use 'scatter(size=...) instead' instead.\n"
          ]
        }
      ]
    },
    {
      "cell_type": "markdown",
      "source": [
        "Q3. How can you customize the appearance of a Bokeh plot, including the axes, title, and legend?"
      ],
      "metadata": {
        "id": "Efje2t2E-R1w"
      }
    },
    {
      "cell_type": "markdown",
      "source": [
        "Bokeh plots can be customized in various ways, including modifying the axes, titles, legends, and more. Here’s an example:"
      ],
      "metadata": {
        "id": "X9s5q039-Zhi"
      }
    },
    {
      "cell_type": "code",
      "source": [
        "from bokeh.plotting import figure, show\n",
        "from bokeh.io import output_file\n",
        "\n",
        "output_file(\"customized_plot.html\")\n",
        "\n",
        "# Create a figure\n",
        "# Changed plot_width and plot_height to width and height respectively\n",
        "p = figure(title=\"Customized Bokeh Plot\", x_axis_label=\"X-axis\", y_axis_label=\"Y-axis\", width=400, height=400)\n",
        "\n",
        "# Add a line glyph\n",
        "p.line([1, 2, 3, 4, 5], [6, 7, 2, 4, 5], legend_label=\"Data\", line_width=2)\n",
        "\n",
        "# Customize title\n",
        "p.title.text = \"Updated Title\"\n",
        "p.title.text_color = \"green\"\n",
        "p.title.text_font_size = \"16pt\"\n",
        "p.title.align = \"center\"\n",
        "\n",
        "# Customize axes\n",
        "p.xaxis.axis_label = \"Custom X Axis\"\n",
        "p.xaxis.axis_line_width = 2\n",
        "p.xaxis.axis_line_color = \"black\"\n",
        "p.yaxis.axis_label = \"Custom Y Axis\"\n",
        "p.yaxis.major_label_text_color = \"red\"\n",
        "\n",
        "# Customize legend\n",
        "p.legend.title = \"Legend\"\n",
        "p.legend.label_text_font_size = \"10pt\"\n",
        "p.legend.location = \"top_left\"\n",
        "\n",
        "# Show the plot in the browser\n",
        "show(p)"
      ],
      "metadata": {
        "id": "ypdCmZZ9-QS8"
      },
      "execution_count": 6,
      "outputs": []
    },
    {
      "cell_type": "markdown",
      "source": [
        "Q4. What is a Bokeh server, and how can you use it to create interactive plots that can be updated in real time?<br>\n",
        "A Bokeh server allows for the creation of interactive plots that can be updated in real-time based on user interactions or data updates. It runs a Bokeh app, handling both the plot and its interactions on a live server. This is useful for applications like live dashboards or real-time data visualizations.<br>"
      ],
      "metadata": {
        "id": "d3WXPU5A-0rq"
      }
    },
    {
      "cell_type": "code",
      "source": [
        "from bokeh.plotting import figure, curdoc\n",
        "from bokeh.models import ColumnDataSource\n",
        "from bokeh.layouts import layout\n",
        "from bokeh.models.widgets import Slider\n",
        "\n",
        "# Create a ColumnDataSource to store data\n",
        "source = ColumnDataSource(data=dict(x=[1, 2, 3, 4, 5], y=[6, 7, 2, 4, 5]))\n",
        "\n",
        "# Create a figure\n",
        "p = figure(title=\"Interactive Bokeh Plot\", x_axis_label=\"X-axis\", y_axis_label=\"Y-axis\")\n",
        "\n",
        "# Add a line glyph\n",
        "p.line('x', 'y', source=source)\n",
        "\n",
        "# Create a slider widget\n",
        "slider = Slider(start=0, end=10, value=1, step=0.1, title=\"Slider\")\n",
        "\n",
        "# Define a callback function to update the plot\n",
        "def update_data(attr, old, new):\n",
        "    factor = slider.value\n",
        "    new_data = {'x': [1, 2, 3, 4, 5], 'y': [i * factor for i in [6, 7, 2, 4, 5]]}\n",
        "    source.data = new_data\n",
        "\n",
        "# Attach the callback to the slider\n",
        "slider.on_change('value', update_data)\n",
        "\n",
        "# Layout\n",
        "layout = layout([[p], [slider]])\n",
        "\n",
        "# Add the layout to the current document\n",
        "curdoc().add_root(layout)\n"
      ],
      "metadata": {
        "id": "Rn6HYBiT-fqV"
      },
      "execution_count": 7,
      "outputs": []
    },
    {
      "cell_type": "markdown",
      "source": [
        "Q5. How can you embed a Bokeh plot into a web page or dashboard using Flask or Django?"
      ],
      "metadata": {
        "id": "DrK8T3Jg_Kds"
      }
    },
    {
      "cell_type": "code",
      "source": [
        "#using flask\n",
        "# app.py\n",
        "from flask import Flask, render_template\n",
        "from bokeh.plotting import figure\n",
        "from bokeh.embed import components\n",
        "\n",
        "app = Flask(__name__)\n",
        "\n",
        "@app.route('/')\n",
        "def bokeh_plot():\n",
        "    # Create a simple Bokeh plot\n",
        "    p = figure(title=\"Bokeh Embedded in Flask\", x_axis_label=\"X-axis\", y_axis_label=\"Y-axis\")\n",
        "    p.line([1, 2, 3, 4, 5], [6, 7, 2, 4, 5], line_width=2)\n",
        "\n",
        "    # Get the components to embed the plot\n",
        "    script, div = components(p)\n",
        "\n",
        "    return render_template('embed.html', script=script, div=div)\n",
        "\n",
        "if __name__ == '__main__':\n",
        "    app.run(debug=True)\n",
        "\n",
        "# embed.html (HTML file to render the plot)\n",
        "<!DOCTYPE html>\n",
        "<html lang=\"en\">\n",
        "<head>\n",
        "    <meta charset=\"UTF-8\">\n",
        "    <title>Bokeh Plot</title>\n",
        "    {{ script|safe }}\n",
        "</head>\n",
        "<body>\n",
        "    <h1>Bokeh Plot in Flask</h1>\n",
        "    {{ div|safe }}\n",
        "</body>\n",
        "</html>\n"
      ],
      "metadata": {
        "id": "BvTW9BNJ_FOK"
      },
      "execution_count": null,
      "outputs": []
    },
    {
      "cell_type": "code",
      "source": [
        "#django\n",
        "# views.py\n",
        "from django.shortcuts import render\n",
        "from bokeh.plotting import figure\n",
        "from bokeh.embed import components\n",
        "\n",
        "def bokeh_plot(request):\n",
        "    # Create a simple Bokeh plot\n",
        "    p = figure(title=\"Bokeh Embedded in Django\", x_axis_label=\"X-axis\", y_axis_label=\"Y-axis\")\n",
        "    p.line([1, 2, 3, 4, 5], [6, 7, 2, 4, 5], line_width=2)\n",
        "\n",
        "    # Get the components to embed the plot\n",
        "    script, div = components(p)\n",
        "\n",
        "    return render(request, 'embed.html', {'script': script, 'div': div})\n",
        "\n",
        "# embed.html (template file)\n",
        "<!DOCTYPE html>\n",
        "<html lang=\"en\">\n",
        "<head>\n",
        "    <meta charset=\"UTF-8\">\n",
        "    <title>Bokeh Plot</title>\n",
        "    {{ script|safe }}\n",
        "</head>\n",
        "<body>\n",
        "    <h1>Bokeh Plot in Django</h1>\n",
        "    {{ div|safe }}\n",
        "</body>\n",
        "</html>\n"
      ],
      "metadata": {
        "id": "Ek7OnZHB_OZr"
      },
      "execution_count": null,
      "outputs": []
    }
  ]
}