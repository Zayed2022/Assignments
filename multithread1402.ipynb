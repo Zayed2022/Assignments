{
  "nbformat": 4,
  "nbformat_minor": 0,
  "metadata": {
    "colab": {
      "provenance": [],
      "authorship_tag": "ABX9TyM6/9qlQzYspEaOHfTDAQgi",
      "include_colab_link": true
    },
    "kernelspec": {
      "name": "python3",
      "display_name": "Python 3"
    },
    "language_info": {
      "name": "python"
    }
  },
  "cells": [
    {
      "cell_type": "markdown",
      "metadata": {
        "id": "view-in-github",
        "colab_type": "text"
      },
      "source": [
        "<a href=\"https://colab.research.google.com/github/Zayed2022/Assignments/blob/main/multithread1402.ipynb\" target=\"_parent\"><img src=\"https://colab.research.google.com/assets/colab-badge.svg\" alt=\"Open In Colab\"/></a>"
      ]
    },
    {
      "cell_type": "markdown",
      "source": [
        "Q1: What is multithreading in Python? Why is it used? Name the module used to handle threads in Python.\n",
        "Multithreading in Python refers to the ability of a program to run multiple threads (smaller units of a process) concurrently. In Python, multithreading is used to achieve multitasking by performing multiple tasks at the same time, thereby improving the efficiency of the application, especially in I/O-bound operations (e.g., file reading/writing, network communication).\n",
        "\n",
        "Why is it used?\n",
        "\n",
        "Improved performance for I/O-bound tasks: Since Python's Global Interpreter Lock (GIL) prevents true parallelism in CPU-bound tasks, multithreading is mostly useful for I/O-bound tasks.\n",
        "Concurrency: Threads share the same memory space, which makes them lighter than processes and allows faster task switching.\n",
        "Simpler structure: It helps manage different operations, like UI updates, network operations, and user interactions, concurrently.\n",
        "Module used: Python's threading module is used to handle threads."
      ],
      "metadata": {
        "id": "Jawqg1a5qm5Q"
      }
    },
    {
      "cell_type": "markdown",
      "source": [
        "Q2: Why is the threading module used? Write the use of the following functions.\n",
        "The threading module is used to create and control threads in Python. It simplifies the handling of threads by providing a higher-level interface than the thread module. It offers tools to manage threads, synchronize them, and handle concurrency."
      ],
      "metadata": {
        "id": "LFM8IA2Pqonq"
      }
    },
    {
      "cell_type": "code",
      "execution_count": 3,
      "metadata": {
        "colab": {
          "base_uri": "https://localhost:8080/"
        },
        "id": "zNNC3cZjp9Kc",
        "outputId": "a9ed3b9d-4c34-439d-e0f5-1bae9d78e7f5"
      },
      "outputs": [
        {
          "output_type": "stream",
          "name": "stdout",
          "text": [
            "5\n"
          ]
        },
        {
          "output_type": "stream",
          "name": "stderr",
          "text": [
            "<ipython-input-3-1c5bd2458d4a>:5: DeprecationWarning: activeCount() is deprecated, use active_count() instead\n",
            "  print(threading.activeCount())\n"
          ]
        }
      ],
      "source": [
        "#activeCount():\n",
        "#Returns the number of thread objects currently alive.\n",
        "\n",
        "import threading\n",
        "print(threading.activeCount())"
      ]
    },
    {
      "cell_type": "code",
      "source": [
        "#currentThread():\n",
        "\n",
        "#Returns the thread object corresponding to the caller’s thread of control.\n",
        "\n",
        "import threading\n",
        "print(threading.currentThread())"
      ],
      "metadata": {
        "colab": {
          "base_uri": "https://localhost:8080/"
        },
        "id": "R61VyNekq1W_",
        "outputId": "c6c68321-fdd4-4e89-d042-d47cdc797bb7"
      },
      "execution_count": 4,
      "outputs": [
        {
          "output_type": "stream",
          "name": "stdout",
          "text": [
            "<_MainThread(MainThread, started 140650752761856)>\n"
          ]
        },
        {
          "output_type": "stream",
          "name": "stderr",
          "text": [
            "<ipython-input-4-0a92b080c5f3>:6: DeprecationWarning: currentThread() is deprecated, use current_thread() instead\n",
            "  print(threading.currentThread())\n"
          ]
        }
      ]
    },
    {
      "cell_type": "code",
      "source": [
        "# enumerate():\n",
        "\n",
        "# Returns a list of all active thread objects.\n",
        "\n",
        "import threading\n",
        "print(threading.enumerate())"
      ],
      "metadata": {
        "colab": {
          "base_uri": "https://localhost:8080/"
        },
        "id": "qd9QB8o1rSUq",
        "outputId": "b1122dd4-847a-4ea8-f387-c0a939e1fae4"
      },
      "execution_count": 5,
      "outputs": [
        {
          "output_type": "stream",
          "name": "stdout",
          "text": [
            "[<_MainThread(MainThread, started 140650752761856)>, <Thread(Thread-2 (_thread_main), started daemon 140650515265088)>, <Heartbeat(Thread-3, started daemon 140650506872384)>, <ParentPollerUnix(Thread-1, started daemon 140650464933440)>, <Thread(_colab_inspector_thread, started daemon 140650192303680)>]\n"
          ]
        }
      ]
    },
    {
      "cell_type": "markdown",
      "source": [
        "Q3: Explain the following functions.\n",
        " run()\n",
        " start()\n",
        " join()\n",
        " isAlive()"
      ],
      "metadata": {
        "id": "NkcmlJi1rfwO"
      }
    },
    {
      "cell_type": "code",
      "source": [
        "# run():\n",
        "# The run() method is the entry point for a thread. This method is called when a thread starts. If you subclass Thread and override this method, the code inside run() will be executed in the thread.\n",
        "\n",
        "class MyThread(threading.Thread):\n",
        "    def run(self):\n",
        "        print(\"Thread is running\")\n",
        "\n",
        "t = MyThread()\n",
        "t.run()\n",
        "\n",
        "# start():\n",
        "# The start() method begins the thread's activity. It calls the run() method, and the thread is scheduled to run.\n",
        "\n",
        "t = MyThread()\n",
        "t.start()\n",
        "\n",
        "# join():\n",
        "# The join() method ensures that the calling thread waits for the thread on which it was called to finish.\n",
        "\n",
        "t = MyThread()\n",
        "t.start()\n",
        "t.join()  # Main thread waits for 't' to finish\n",
        "\n",
        "# isAlive():\n",
        "# Returns True if the thread is currently executing.\n",
        "\n",
        "if t.is_alive():\n",
        "    print(\"Thread is alive\")\n"
      ],
      "metadata": {
        "colab": {
          "base_uri": "https://localhost:8080/"
        },
        "id": "ZdIUgbw8rYPf",
        "outputId": "513b6106-7cf4-478e-dfbf-9c681e24fc2b"
      },
      "execution_count": 7,
      "outputs": [
        {
          "output_type": "stream",
          "name": "stdout",
          "text": [
            "Thread is running\n",
            "Thread is runningThread is running\n",
            "\n"
          ]
        }
      ]
    },
    {
      "cell_type": "markdown",
      "source": [
        "Q4: Write a Python program to create two threads. Thread one must print the list of squares and thread two must print the list of cubes."
      ],
      "metadata": {
        "id": "iAKcVhYRsWPJ"
      }
    },
    {
      "cell_type": "code",
      "source": [
        "import threading\n",
        "\n",
        "def print_squares(numbers):\n",
        "    for n in numbers:\n",
        "        print(f\"Square of {n}: {n ** 2}\")\n",
        "\n",
        "def print_cubes(numbers):\n",
        "    for n in numbers:\n",
        "        print(f\"Cube of {n}: {n ** 3}\")\n",
        "\n",
        "numbers = [1, 2, 3, 4, 5]\n",
        "\n",
        "# Create threads\n",
        "t1 = threading.Thread(target=print_squares, args=(numbers,))\n",
        "t2 = threading.Thread(target=print_cubes, args=(numbers,))\n",
        "\n",
        "# Start threads\n",
        "t1.start()\n",
        "t2.start()\n",
        "\n",
        "# Wait for both threads to complete\n",
        "t1.join()\n",
        "t2.join()\n",
        "\n",
        "print(\"Both threads have finished executing.\")\n"
      ],
      "metadata": {
        "colab": {
          "base_uri": "https://localhost:8080/"
        },
        "id": "gGHJwBBlsPDC",
        "outputId": "aea41b66-0140-4676-9036-70b50240ca24"
      },
      "execution_count": 8,
      "outputs": [
        {
          "output_type": "stream",
          "name": "stdout",
          "text": [
            "Square of 1: 1\n",
            "Square of 2: 4\n",
            "Square of 3: 9\n",
            "Square of 4: 16\n",
            "Square of 5: 25\n",
            "Cube of 1: 1\n",
            "Cube of 2: 8\n",
            "Cube of 3: 27\n",
            "Cube of 4: 64\n",
            "Cube of 5: 125\n",
            "Both threads have finished executing.\n"
          ]
        }
      ]
    },
    {
      "cell_type": "markdown",
      "source": [
        "Q5: State advantages and disadvantages of multithreading.\n",
        "\n",
        "ans:Advantages:<br>\n",
        "Improved performance in I/O-bound tasks: Multithreading improves performance in programs that spend a lot of time waiting for external resources (like file or network operations).<br>\n",
        "Concurrency: Multiple tasks can run concurrently within a single process.\n",
        "Better resource sharing: Threads share the same memory space, making communication between threads easier and reducing memory overhead.\n",
        "Responsive UI: In applications like GUIs, multithreading helps in keeping the interface responsive during long-running operations.<br>\n",
        "Disadvantages:<br>\n",
        "Global Interpreter Lock (GIL): In CPython (the most widely used Python implementation), the GIL prevents true parallelism in CPU-bound threads. This makes threading less effective for CPU-intensive tasks.<br>\n",
        "Complexity: Writing and debugging multithreaded code can be challenging, especially with issues like deadlocks and race conditions.<br>\n",
        "Overhead: Managing multiple threads requires system resources like CPU time and memory, which can lead to increased overhead.<br>\n",
        "Synchronization issues: Improper handling of shared resources can lead to problems like race conditions and data inconsistency.\n"
      ],
      "metadata": {
        "id": "m4rjmgfZsd4A"
      }
    },
    {
      "cell_type": "markdown",
      "source": [
        "Q6: Explain deadlocks and race conditions.<br>\n",
        "Deadlock:\n",
        "A deadlock occurs when two or more threads are blocked, each waiting for the other to release a resource, causing the threads to be stuck indefinitely."
      ],
      "metadata": {
        "id": "56dAKQR2tCL1"
      }
    },
    {
      "cell_type": "code",
      "source": [
        "import threading\n",
        "\n",
        "lock1 = threading.Lock()\n",
        "lock2 = threading.Lock()\n",
        "\n",
        "def thread1():\n",
        "    lock1.acquire()\n",
        "    lock2.acquire()\n",
        "    print(\"Thread 1\")\n",
        "    lock2.release()\n",
        "    lock1.release()\n",
        "\n",
        "def thread2():\n",
        "    lock2.acquire()\n",
        "    lock1.acquire()\n",
        "    print(\"Thread 2\")\n",
        "    lock1.release()\n",
        "    lock2.release()\n",
        "\n",
        "t1 = threading.Thread(target=thread1)\n",
        "t2 = threading.Thread(target=thread2)\n",
        "\n",
        "t1.start()\n",
        "t2.start()\n"
      ],
      "metadata": {
        "colab": {
          "base_uri": "https://localhost:8080/"
        },
        "id": "vgZTaXz5sYp3",
        "outputId": "7af096c1-c068-491c-c0cd-746f107c1162"
      },
      "execution_count": 9,
      "outputs": [
        {
          "output_type": "stream",
          "name": "stdout",
          "text": [
            "Thread 1\n",
            "Thread 2\n"
          ]
        }
      ]
    },
    {
      "cell_type": "markdown",
      "source": [
        "Race Condition:<br>\n",
        "A race condition occurs when two or more threads access shared data concurrently, and the final outcome depends on the order in which the threads execute. This can lead to inconsistent results."
      ],
      "metadata": {
        "id": "FhBBe9F4tS2C"
      }
    },
    {
      "cell_type": "code",
      "source": [
        "import threading\n",
        "\n",
        "x = 0\n",
        "\n",
        "def increment():\n",
        "    global x\n",
        "    for _ in range(1000000):\n",
        "        x += 1\n",
        "\n",
        "def decrement():\n",
        "    global x\n",
        "    for _ in range(1000000):\n",
        "        x -= 1\n",
        "\n",
        "t1 = threading.Thread(target=increment)\n",
        "t2 = threading.Thread(target=decrement)\n",
        "\n",
        "t1.start()\n",
        "t2.start()\n",
        "\n",
        "t1.join()\n",
        "t2.join()\n",
        "\n",
        "print(\"Final value of x:\", x)\n"
      ],
      "metadata": {
        "colab": {
          "base_uri": "https://localhost:8080/"
        },
        "id": "cJy2UcfctPGJ",
        "outputId": "168086a4-e9b8-4d24-a5d9-825c40cdfebf"
      },
      "execution_count": 10,
      "outputs": [
        {
          "output_type": "stream",
          "name": "stdout",
          "text": [
            "Final value of x: 0\n"
          ]
        }
      ]
    }
  ]
}