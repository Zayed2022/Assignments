{
 "cells": [
  {
   "cell_type": "markdown",
   "id": "d48ff266-985d-4892-9fbe-b5575def0265",
   "metadata": {},
   "source": [
    "# WEB API Assignment"
   ]
  },
  {
   "cell_type": "markdown",
   "id": "653e9bbf-34b9-4eba-81ec-a0264cfeafe1",
   "metadata": {},
   "source": [
    "Q1. What is an API? Give an example where an API is used in real life.\n",
    "API (Application Programming Interface):\n",
    "\n",
    "Definition: An API is a set of rules and protocols that allows different software applications to communicate with each other.\n",
    "Example: A good example of an API in real life is the Google Maps API. It allows third-party applications to integrate Google Maps functionalities, such as displaying maps, adding markers, and calculating routes, into their own applications.\n"
   ]
  },
  {
   "cell_type": "markdown",
   "id": "6f9fdfa1-0a81-42f7-b771-bb7aa362fe93",
   "metadata": {},
   "source": [
    "Q2. Give advantages and disadvantages of using API.\n",
    "Advantages of using API:\n",
    "\n",
    "Modularity: Allows different components of a system to be developed independently.\n",
    "Ease of Integration: Simplifies the process of connecting different software components.\n",
    "Improved Efficiency: Enables reuse of code and resources.\n",
    "Enhanced Security: Provides controlled access and reduces the risk of exposing sensitive data.\n",
    "Disadvantages of using API:\n",
    "\n",
    "Complexity: APIs can be complex to design, document, and maintain.\n",
    "Dependence: Changes to an API can affect applications relying on it.\n",
    "Performance Overhead: Additional processing and network overhead can occur.\n",
    "Security Risks: Improperly designed APIs can lead to security vulnerabilities."
   ]
  },
  {
   "cell_type": "markdown",
   "id": "fb601f49-6ebe-4c4d-b09f-aca2c10cdde1",
   "metadata": {},
   "source": [
    "Q3. What is a Web API? Differentiate between API and Web API.\n",
    "Web API:\n",
    "\n",
    "Definition: A Web API (or Web Service) is an API accessible over the HTTP protocol, making it accessible over the internet.\n",
    "Differentiation:\n",
    "API: General term for a set of rules allowing software programs to interact with each other.\n",
    "Web API: Specific type of API that is accessed using HTTP protocols and is usually used for web applications."
   ]
  },
  {
   "cell_type": "markdown",
   "id": "0f83e0e0-8a20-4c86-a401-5ebaa1d8550e",
   "metadata": {},
   "source": [
    "Q4. Explain REST and SOAP Architecture. Mention shortcomings of SOAP.\n",
    "REST (Representational State Transfer):\n",
    "\n",
    "Definition: REST is an architectural style for designing networked applications. It uses a stateless, client-server communication protocol over HTTP.\n",
    "Characteristics:\n",
    "Resources are identified by URIs.\n",
    "Standard HTTP methods (GET, POST, PUT, DELETE) are used.\n",
    "Stateless communication (no client context is stored on the server between requests).\n",
    "Supports multiple formats like JSON, XML, etc.\n",
    "SOAP (Simple Object Access Protocol):\n",
    "\n",
    "Definition: SOAP is a protocol for exchanging structured information in the implementation of web services.\n",
    "Characteristics:\n",
    "Uses XML for message format.\n",
    "Relies on other protocols such as HTTP and SMTP for transport.\n",
    "Supports a wider range of communication patterns and security protocols.\n",
    "Extensive built-in error handling.\n",
    "Shortcomings of SOAP:\n",
    "\n",
    "Complexity: SOAP messages are usually larger and more complex than REST messages.\n",
    "Performance: SOAP can be slower due to its extensive use of XML and its strict format requirements.\n",
    "Flexibility: SOAP can be less flexible than REST due to its strict messaging format.\n"
   ]
  },
  {
   "cell_type": "markdown",
   "id": "cfa648ca-f33a-4368-a229-fb40035ff7b2",
   "metadata": {},
   "source": [
    "Q5. Differentiate between REST and SOAP.\n",
    "REST (Representational State Transfer):\n",
    "\n",
    "Data Format: Typically uses JSON (JavaScript Object Notation) or XML for data representation.\n",
    "Protocol: Uses standard HTTP methods (GET, POST, PUT, DELETE).\n",
    "Stateless: Each request from a client to the server must contain all the information necessary to understand the request.\n",
    "Performance: Generally faster and more efficient than SOAP due to smaller message size and less overhead.\n",
    "Flexibility: More flexible and easy to use, suitable for web applications and mobile applications.\n",
    "SOAP (Simple Object Access Protocol):\n",
    "\n",
    "Data Format: Uses XML (eXtensible Markup Language) for data representation.\n",
    "Protocol: Relies on other protocols like HTTP, SMTP, etc., for transport.\n",
    "Stateful: Can be stateful, meaning the server retains information about the client state.\n",
    "Performance: Generally slower and more verbose than REST due to its use of XML and additional processing requirements.\n",
    "Flexibility: Supports more complex operations and messaging patterns, suitable for enterprise-level applications."
   ]
  },
  {
   "cell_type": "code",
   "execution_count": null,
   "id": "8727a80f-7e16-4779-8aa0-caec81e8a2ba",
   "metadata": {},
   "outputs": [],
   "source": []
  }
 ],
 "metadata": {
  "kernelspec": {
   "display_name": "Python 3 (ipykernel)",
   "language": "python",
   "name": "python3"
  },
  "language_info": {
   "codemirror_mode": {
    "name": "ipython",
    "version": 3
   },
   "file_extension": ".py",
   "mimetype": "text/x-python",
   "name": "python",
   "nbconvert_exporter": "python",
   "pygments_lexer": "ipython3",
   "version": "3.11.4"
  }
 },
 "nbformat": 4,
 "nbformat_minor": 5
}
