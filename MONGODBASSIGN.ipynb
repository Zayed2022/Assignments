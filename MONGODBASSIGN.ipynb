{
 "cells": [
  {
   "cell_type": "markdown",
   "id": "2ec936c0-8e5f-4a91-aa90-9e302904ec4d",
   "metadata": {},
   "source": [
    "## MongoDB ASSIGNMENT"
   ]
  },
  {
   "cell_type": "markdown",
   "id": "d9900947-4111-4861-95f3-501024279b60",
   "metadata": {},
   "source": [
    "### Q1. What is MongoDB? Explain non-relational databases in short. In which scenarios is it preferred to use MongoDB over SQL databases?"
   ]
  },
  {
   "cell_type": "markdown",
   "id": "fbb697b1-fcdc-4691-9662-da9ba9fa6d97",
   "metadata": {},
   "source": [
    "MongoDB:\n",
    "\n",
    "MongoDB is a popular open-source NoSQL database that uses a document-oriented data model.\n",
    "It is designed for scalability, flexibility, and performance, making it suitable for large-scale applications and real-time data.\n",
    "MongoDB stores data in flexible, JSON-like documents, meaning fields can vary from document to document.\n",
    "Non-relational Databases:\n",
    "\n",
    "Non-relational databases (NoSQL databases) store and retrieve data using methods other than the traditional table-based SQL databases.\n",
    "They offer flexibility, scalability, and better performance for certain types of applications compared to traditional SQL databases.\n",
    "Scenarios to prefer MongoDB over SQL databases:\n",
    "\n",
    "Flexible schema: When your data structure evolves over time and doesn’t fit into a fixed schema.\n",
    "Scalability: Especially for applications with huge amounts of data or high throughput.\n",
    "Speed: For applications requiring fast reads and writes, such as real-time analytics.\n",
    "Hierarchical data: When your data has a nested structure or relationships are not well-defined."
   ]
  },
  {
   "cell_type": "markdown",
   "id": "00e127bc-e6ee-4952-9d8a-b15e862fa16e",
   "metadata": {},
   "source": [
    "### Q2. State and Explain the features of MongoDB."
   ]
  },
  {
   "cell_type": "markdown",
   "id": "f3196e70-5980-4221-931f-a865df11f677",
   "metadata": {},
   "source": [
    "Features of MongoDB:\n",
    "\n",
    "Document-Oriented: Stores data in flexible, JSON-like documents.\n",
    "High Performance: Supports indexing and allows high-speed reads and writes.\n",
    "Rich Query Language: Supports queries using a flexible and expressive query language.\n",
    "High Availability: Provides replication and failover support.\n",
    "Horizontal Scalability: Shards data across multiple servers.\n",
    "Schema-less: No rigid schema; fields can vary across documents in a collection.\n",
    "Ad Hoc Queries: Supports dynamic queries on documents using a flexible and powerful query language.\n",
    "Aggregation Framework: Allows for advanced data aggregation operations.\n",
    "Geospatial Indexing: Supports indexing and querying of geospatial data."
   ]
  },
  {
   "cell_type": "markdown",
   "id": "93270b5f-5864-4a4f-906a-a3e8a1d55e6f",
   "metadata": {},
   "source": [
    "### Q3. Write a code to connect MongoDB to Python. Also, create a database and a collection in MongoDB."
   ]
  },
  {
   "cell_type": "code",
   "execution_count": 1,
   "id": "9fd4bc8e-8cc8-40dc-bf94-f677b42186b4",
   "metadata": {},
   "outputs": [
    {
     "name": "stdout",
     "output_type": "stream",
     "text": [
      "Connected to MongoDB successfully.\n"
     ]
    }
   ],
   "source": [
    "# Importing the required libraries\n",
    "from pymongo import MongoClient\n",
    "\n",
    "# Connect to MongoDB server\n",
    "client = MongoClient('mongodb://localhost:27017')\n",
    "\n",
    "# Create a database\n",
    "db = client['mydB']\n",
    "\n",
    "# Create a collection (similar to a table in relational databases)\n",
    "collection = db['mycollec']\n",
    "\n",
    "print(\"Connected to MongoDB successfully.\")\n"
   ]
  },
  {
   "cell_type": "markdown",
   "id": "54cb1824-9a70-4cc9-9109-641df99053ac",
   "metadata": {},
   "source": [
    "### Q4. Using the database and the collection created in question number 3, write a code to insert one record and insert many records. Use the find() and find_one() methods to print the inserted record."
   ]
  },
  {
   "cell_type": "code",
   "execution_count": 2,
   "id": "87396801-4aa9-46a9-944b-3adfe5eb3ba1",
   "metadata": {},
   "outputs": [
    {
     "name": "stdout",
     "output_type": "stream",
     "text": [
      "One record inserted with ID: 665c1f6ee82a14079ad73797\n",
      "Multiple records inserted with IDs: [ObjectId('665c1f6fe82a14079ad73798'), ObjectId('665c1f6fe82a14079ad73799'), ObjectId('665c1f6fe82a14079ad7379a')]\n",
      "Found one record: {'_id': ObjectId('665c1f6ee82a14079ad73797'), 'name': 'John Doe', 'email': 'johndoe@example.com', 'phone': '123-456-7890'}\n",
      "All records:\n",
      "{'_id': ObjectId('665c1f6ee82a14079ad73797'), 'name': 'John Doe', 'email': 'johndoe@example.com', 'phone': '123-456-7890'}\n",
      "{'_id': ObjectId('665c1f6fe82a14079ad73798'), 'name': 'Jane Doe', 'email': 'janedoe@example.com', 'phone': '987-654-3210'}\n",
      "{'_id': ObjectId('665c1f6fe82a14079ad73799'), 'name': 'Richard Roe', 'email': 'richardroe@example.com', 'phone': '456-789-0123'}\n",
      "{'_id': ObjectId('665c1f6fe82a14079ad7379a'), 'name': 'Emily Smith', 'email': 'emilysmith@example.com', 'phone': '321-654-9870'}\n"
     ]
    }
   ],
   "source": [
    "# Insert one record\n",
    "record = {\n",
    "    'name': 'John Doe',\n",
    "    'email': 'johndoe@example.com',\n",
    "    'phone': '123-456-7890'\n",
    "}\n",
    "\n",
    "# Inserting one record into the collection\n",
    "inserted_one = collection.insert_one(record)\n",
    "print(\"One record inserted with ID:\", inserted_one.inserted_id)\n",
    "\n",
    "# Insert many records\n",
    "records = [\n",
    "    { 'name': 'Jane Doe', 'email': 'janedoe@example.com', 'phone': '987-654-3210' },\n",
    "    { 'name': 'Richard Roe', 'email': 'richardroe@example.com', 'phone': '456-789-0123' },\n",
    "    { 'name': 'Emily Smith', 'email': 'emilysmith@example.com', 'phone': '321-654-9870' }\n",
    "]\n",
    "\n",
    "# Inserting multiple records into the collection\n",
    "inserted_many = collection.insert_many(records)\n",
    "print(\"Multiple records inserted with IDs:\", inserted_many.inserted_ids)\n",
    "\n",
    "# Find one record\n",
    "result_one = collection.find_one({ 'name': 'John Doe' })\n",
    "print(\"Found one record:\", result_one)\n",
    "\n",
    "# Find all records\n",
    "results = collection.find()\n",
    "print(\"All records:\")\n",
    "for result in results:\n",
    "    print(result)\n"
   ]
  },
  {
   "cell_type": "markdown",
   "id": "c8f21482-27ff-4195-9913-cef54a0bef2a",
   "metadata": {},
   "source": [
    "### Q5. Explain how you can use the find() method to query the MongoDB database. Write a simple code to demonstrate this."
   ]
  },
  {
   "cell_type": "code",
   "execution_count": 3,
   "id": "2a040494-7515-438e-91fa-b07fc6da8fca",
   "metadata": {},
   "outputs": [
    {
     "name": "stdout",
     "output_type": "stream",
     "text": [
      "{'_id': ObjectId('665c1f6ee82a14079ad73797'), 'name': 'John Doe', 'email': 'johndoe@example.com', 'phone': '123-456-7890'}\n"
     ]
    }
   ],
   "source": [
    "# Using find() method to query MongoDB\n",
    "results = collection.find({ 'name': 'John Doe' })\n",
    "\n",
    "# Print documents\n",
    "for result in results:\n",
    "    print(result)\n"
   ]
  },
  {
   "cell_type": "markdown",
   "id": "708c3b4c-0ba0-4ff2-9611-5e0575478de7",
   "metadata": {},
   "source": [
    "### Q6. Explain the sort() method. Give an example to demonstrate sorting in MongoDB."
   ]
  },
  {
   "cell_type": "code",
   "execution_count": 4,
   "id": "ab909d28-59ea-4a51-9407-b5d96ac0897b",
   "metadata": {},
   "outputs": [
    {
     "name": "stdout",
     "output_type": "stream",
     "text": [
      "Sorted by name in ascending order:\n",
      "{'_id': ObjectId('665c1f6fe82a14079ad7379a'), 'name': 'Emily Smith', 'email': 'emilysmith@example.com', 'phone': '321-654-9870'}\n",
      "{'_id': ObjectId('665c1f6fe82a14079ad73798'), 'name': 'Jane Doe', 'email': 'janedoe@example.com', 'phone': '987-654-3210'}\n",
      "{'_id': ObjectId('665c1f6ee82a14079ad73797'), 'name': 'John Doe', 'email': 'johndoe@example.com', 'phone': '123-456-7890'}\n",
      "{'_id': ObjectId('665c1f6fe82a14079ad73799'), 'name': 'Richard Roe', 'email': 'richardroe@example.com', 'phone': '456-789-0123'}\n"
     ]
    }
   ],
   "source": [
    "# Sorting by a single field\n",
    "results = collection.find().sort('name', 1)  # 1 for ascending, -1 for descending\n",
    "\n",
    "# Print documents\n",
    "print(\"Sorted by name in ascending order:\")\n",
    "for result in results:\n",
    "    print(result)\n"
   ]
  },
  {
   "cell_type": "markdown",
   "id": "4c371f0a-1e6d-4d98-a2c5-e6ad48fb23d5",
   "metadata": {},
   "source": [
    "### Q7. Explain why delete_one(), delete_many(), and drop() is used."
   ]
  },
  {
   "cell_type": "markdown",
   "id": "f2d8237b-4f8a-4b8e-b7ae-2c454779612b",
   "metadata": {},
   "source": [
    "delete_one(): Deletes a single document that matches the specified criteria.\n",
    "delete_many(): Deletes all documents that match the specified criteria.\n",
    "drop(): Deletes an entire collection from the database."
   ]
  },
  {
   "cell_type": "code",
   "execution_count": null,
   "id": "7e20c1ee-a58d-41b5-8fe8-5f35ffa62d22",
   "metadata": {},
   "outputs": [],
   "source": []
  }
 ],
 "metadata": {
  "kernelspec": {
   "display_name": "Python 3 (ipykernel)",
   "language": "python",
   "name": "python3"
  },
  "language_info": {
   "codemirror_mode": {
    "name": "ipython",
    "version": 3
   },
   "file_extension": ".py",
   "mimetype": "text/x-python",
   "name": "python",
   "nbconvert_exporter": "python",
   "pygments_lexer": "ipython3",
   "version": "3.11.4"
  }
 },
 "nbformat": 4,
 "nbformat_minor": 5
}
